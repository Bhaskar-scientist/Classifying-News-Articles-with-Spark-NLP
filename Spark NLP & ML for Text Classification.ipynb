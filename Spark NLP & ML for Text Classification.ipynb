{
 "cells": [
  {
   "cell_type": "markdown",
   "metadata": {
    "id": "eXO0IzY8dL0k"
   },
   "source": [
    "### Use Spark NLP for Text Classification\n",
    "\n",
    "* Spark NLP is an open-source text processing library for advanced natural language processing for the Python, Java and Scala programming languages.\n",
    "\n",
    "* The library is built on top of Apache Spark and its Spark ML library.\n",
    "\n",
    "* It is currently the most widely used NLP library in the enterprise.\n",
    "\n",
    "* In this tutorial, we will learn how to use Spark NLP for text preprocessing and build machine learning models to classify text into different categories."
   ]
  },
  {
   "cell_type": "code",
   "execution_count": null,
   "metadata": {
    "colab": {
     "base_uri": "https://localhost:8080/"
    },
    "executionInfo": {
     "elapsed": 54019,
     "status": "ok",
     "timestamp": 1720007926350,
     "user": {
      "displayName": "Bhaskar Reddy",
      "userId": "14970899258772530374"
     },
     "user_tz": -330
    },
    "id": "my9vdNgURks2",
    "outputId": "c34ce979-a5d0-4fb2-9377-8e44bc55151d"
   },
   "outputs": [
    {
     "name": "stdout",
     "output_type": "stream",
     "text": [
      "--2024-07-03 11:57:55--  http://setup.johnsnowlabs.com/colab.sh\n",
      "Resolving setup.johnsnowlabs.com (setup.johnsnowlabs.com)... 3.86.22.73\n",
      "Connecting to setup.johnsnowlabs.com (setup.johnsnowlabs.com)|3.86.22.73|:80... connected.\n",
      "HTTP request sent, awaiting response... 302 Moved Temporarily\n",
      "Location: https://raw.githubusercontent.com/JohnSnowLabs/spark-nlp/master/scripts/colab_setup.sh [following]\n",
      "--2024-07-03 11:57:56--  https://raw.githubusercontent.com/JohnSnowLabs/spark-nlp/master/scripts/colab_setup.sh\n",
      "Resolving raw.githubusercontent.com (raw.githubusercontent.com)... 185.199.108.133, 185.199.109.133, 185.199.110.133, ...\n",
      "Connecting to raw.githubusercontent.com (raw.githubusercontent.com)|185.199.108.133|:443... connected.\n",
      "HTTP request sent, awaiting response... 200 OK\n",
      "Length: 1191 (1.2K) [text/plain]\n",
      "Saving to: ‘STDOUT’\n",
      "\n",
      "-                   100%[===================>]   1.16K  --.-KB/s    in 0s      \n",
      "\n",
      "Installing PySpark 3.2.3 and Spark NLP 5.4.0\n",
      "2024-07-03 11:57:56 (87.9 MB/s) - written to stdout [1191/1191]\n",
      "\n",
      "setup Colab for PySpark 3.2.3 and Spark NLP 5.4.0\n",
      "\u001b[2K     \u001b[90m━━━━━━━━━━━━━━━━━━━━━━━━━━━━━━━━━━━━━━━━\u001b[0m \u001b[32m281.5/281.5 MB\u001b[0m \u001b[31m2.9 MB/s\u001b[0m eta \u001b[36m0:00:00\u001b[0m\n",
      "\u001b[?25h  Preparing metadata (setup.py) ... \u001b[?25l\u001b[?25hdone\n",
      "\u001b[2K     \u001b[90m━━━━━━━━━━━━━━━━━━━━━━━━━━━━━━━━━━━━━━━━\u001b[0m \u001b[32m579.2/579.2 kB\u001b[0m \u001b[31m40.7 MB/s\u001b[0m eta \u001b[36m0:00:00\u001b[0m\n",
      "\u001b[2K     \u001b[90m━━━━━━━━━━━━━━━━━━━━━━━━━━━━━━━━━━━━━━━━\u001b[0m \u001b[32m199.7/199.7 kB\u001b[0m \u001b[31m26.1 MB/s\u001b[0m eta \u001b[36m0:00:00\u001b[0m\n",
      "\u001b[?25h  Building wheel for pyspark (setup.py) ... \u001b[?25l\u001b[?25hdone\n"
     ]
    }
   ],
   "source": [
    "!wget http://setup.johnsnowlabs.com/colab.sh -O - | bash"
   ]
  },
  {
   "cell_type": "code",
   "execution_count": null,
   "metadata": {
    "id": "OaI49cH8PqZ4"
   },
   "outputs": [],
   "source": [
    "# Import modules\n",
    "import os\n",
    "import re\n",
    "import matplotlib.pyplot as plt\n",
    "import numpy as np\n",
    "import pandas as pd\n",
    "from pyspark.sql.types import *\n",
    "from pyspark.sql.functions import expr\n",
    "from pyspark.sql import functions as fun\n",
    "from pyspark.sql import Row\n",
    "from pyspark.ml import Pipeline\n",
    "from pyspark.ml.feature import *\n",
    "import sparknlp\n",
    "from sparknlp import DocumentAssembler, Finisher\n",
    "from sparknlp.annotator import *\n",
    "from pyspark.ml.classification import *\n",
    "from pyspark.ml.tuning import *\n",
    "from pyspark.ml.evaluation import *"
   ]
  },
  {
   "cell_type": "code",
   "execution_count": null,
   "metadata": {
    "colab": {
     "base_uri": "https://localhost:8080/"
    },
    "executionInfo": {
     "elapsed": 26472,
     "status": "ok",
     "timestamp": 1720007960475,
     "user": {
      "displayName": "Bhaskar Reddy",
      "userId": "14970899258772530374"
     },
     "user_tz": -330
    },
    "id": "ZFd_vOA4dLmC",
    "outputId": "032f0663-a043-4daf-df47-5fb5ade8c7e1"
   },
   "outputs": [
    {
     "name": "stdout",
     "output_type": "stream",
     "text": [
      "Mounted at /content/drive\n"
     ]
    }
   ],
   "source": [
    "# Mount my google drive to colab\n",
    "from google.colab import drive\n",
    "drive.mount('/content/drive')"
   ]
  },
  {
   "cell_type": "markdown",
   "metadata": {
    "id": "kPag4KezvY6m"
   },
   "source": [
    "## BBC News Summary Dataset\n",
    "\n",
    "Sources: https://www.kaggle.com/datasets/pariza/bbc-news-summary; http://mlg.ucd.ie/datasets/bbc.html\n",
    "\n",
    "\\\n",
    "The dataset consists of 2225 documents from the BBC news website corresponding to stories in five topical areas from 2004-2005. There are five class Labels: business, entertainment, politics, sport, and tech.\n",
    "\n",
    "\\\n",
    "Dataset structure:\n",
    "\n",
    "\\\n",
    "* News Articles\n",
    "  * business (txt files, e.g., 001.txt)\n",
    "  * entertainment (txt files)\n",
    "  * politics (txt files)\n",
    "  * sport (txt files)\n",
    "  * tech (txt files)\n",
    "\n",
    "\\\n",
    "* Summaries\n",
    "  * business (txt files, e.g., 001.txt)\n",
    "  * entertainment (txt files)\n",
    "  * politics (txt files)\n",
    "  * sport (txt files)\n",
    "  * tech (txt files)"
   ]
  },
  {
   "cell_type": "code",
   "execution_count": null,
   "metadata": {
    "id": "RQ2S8EafQqrG"
   },
   "outputs": [],
   "source": [
    "# Start the Spark NLP session\n",
    "spark = sparknlp.start()"
   ]
  },
  {
   "cell_type": "code",
   "execution_count": null,
   "metadata": {
    "colab": {
     "base_uri": "https://localhost:8080/"
    },
    "executionInfo": {
     "elapsed": 1776,
     "status": "ok",
     "timestamp": 1720008036824,
     "user": {
      "displayName": "Bhaskar Reddy",
      "userId": "14970899258772530374"
     },
     "user_tz": -330
    },
    "id": "GvQi3W-IW3eO",
    "outputId": "7dc0a073-1ca6-427f-c141-dc9771c5285e"
   },
   "outputs": [
    {
     "name": "stdout",
     "output_type": "stream",
     "text": [
      "510\n"
     ]
    },
    {
     "data": {
      "text/plain": [
       "['/content/drive/My Drive/BBC News Summary/Summaries1/tech/005.txt',\n",
       " '/content/drive/My Drive/BBC News Summary/Summaries1/tech/004.txt',\n",
       " '/content/drive/My Drive/BBC News Summary/Summaries1/tech/002.txt',\n",
       " '/content/drive/My Drive/BBC News Summary/Summaries1/tech/001.txt',\n",
       " '/content/drive/My Drive/BBC News Summary/Summaries1/tech/006.txt']"
      ]
     },
     "execution_count": 5,
     "metadata": {},
     "output_type": "execute_result"
    }
   ],
   "source": [
    "# In Spark NLP, wholeTextFile() will return an error when it finds a nested folder.\n",
    "# Therefore, we need to create a file path list by traversing all nested folders\n",
    "# and pass all file names with comma separator in order to create a single RDD.\n",
    "root = '/content/drive/My Drive/BBC News Summary/Summaries'\n",
    "lst_filenames = [os.path.join(path, name) for path, subdirs, files\n",
    "                 in os.walk(root) for name in files]\n",
    "print(len(lst_filenames))\n",
    "lst_filenames[:5]"
   ]
  },
  {
   "cell_type": "code",
   "execution_count": null,
   "metadata": {
    "id": "Q7sbUWjQQdan"
   },
   "outputs": [],
   "source": [
    "# Use Spark NLP to import all txt files in the list (filenames seperated by comma)\n",
    "texts = spark.sparkContext.wholeTextFiles(','.join(lst_filenames))"
   ]
  },
  {
   "cell_type": "code",
   "execution_count": null,
   "metadata": {
    "id": "xUwHqIO5RFh2"
   },
   "outputs": [],
   "source": [
    "# Create a schema for the imported files\n",
    "schema = StructType([\n",
    "  StructField('filename', StringType()),\n",
    "  StructField('text', StringType())\n",
    "])"
   ]
  },
  {
   "cell_type": "code",
   "execution_count": null,
   "metadata": {
    "colab": {
     "base_uri": "https://localhost:8080/"
    },
    "executionInfo": {
     "elapsed": 17108,
     "status": "ok",
     "timestamp": 1720008068613,
     "user": {
      "displayName": "Bhaskar Reddy",
      "userId": "14970899258772530374"
     },
     "user_tz": -330
    },
    "id": "Q6BbZZeWSW4V",
    "outputId": "557a2ceb-277b-4261-c14d-2ed2ae5b1702"
   },
   "outputs": [
    {
     "name": "stdout",
     "output_type": "stream",
     "text": [
      "+--------------------+--------------------+\n",
      "|            filename|                text|\n",
      "+--------------------+--------------------+\n",
      "|file:/content/dri...|\"We are hoping to...|\n",
      "|file:/content/dri...|He said one lapto...|\n",
      "|file:/content/dri...|Laws on net cafe ...|\n",
      "|file:/content/dri...|The other common ...|\n",
      "|file:/content/dri...|The Agricultural ...|\n",
      "|file:/content/dri...|Microsoft is inve...|\n",
      "|file:/content/dri...|Microsoft is inve...|\n",
      "|file:/content/dri...|People chosen to ...|\n",
      "|file:/content/dri...|More people are b...|\n",
      "|file:/content/dri...|A US woman is sui...|\n",
      "|file:/content/dri...|A rapid alerting ...|\n",
      "|file:/content/dri...|The European Parl...|\n",
      "|file:/content/dri...|Microsoft is work...|\n",
      "|file:/content/dri...|Web tracking comp...|\n",
      "|file:/content/dri...|The Legal Affairs...|\n",
      "|file:/content/dri...|Mr Hogan said 90%...|\n",
      "|file:/content/dri...|IBM said it had t...|\n",
      "|file:/content/dri...|Sony, IBM and Tos...|\n",
      "|file:/content/dri...|Every month the p...|\n",
      "|file:/content/dri...|\"If you have a bl...|\n",
      "+--------------------+--------------------+\n",
      "only showing top 20 rows\n",
      "\n"
     ]
    }
   ],
   "source": [
    "# Create a Spark NLP dataframe\n",
    "texts = spark.createDataFrame(texts, schema = schema)\n",
    "texts.show()"
   ]
  },
  {
   "cell_type": "code",
   "execution_count": null,
   "metadata": {
    "colab": {
     "base_uri": "https://localhost:8080/",
     "height": 206
    },
    "executionInfo": {
     "elapsed": 1637,
     "status": "ok",
     "timestamp": 1720008074525,
     "user": {
      "displayName": "Bhaskar Reddy",
      "userId": "14970899258772530374"
     },
     "user_tz": -330
    },
    "id": "R3xyWf4USoUV",
    "outputId": "9a5fc812-170e-43a3-84ed-cac856081c86"
   },
   "outputs": [
    {
     "data": {
      "application/vnd.google.colaboratory.intrinsic+json": {
       "summary": "{\n  \"name\": \"texts\",\n  \"rows\": 5,\n  \"fields\": [\n    {\n      \"column\": \"filename\",\n      \"properties\": {\n        \"dtype\": \"string\",\n        \"num_unique_values\": 5,\n        \"samples\": [\n          \"file:/content/drive/My Drive/BBC News Summary/Summaries1/tech/004.txt\",\n          \"file:/content/drive/My Drive/BBC News Summary/Summaries1/tech/006.txt\",\n          \"file:/content/drive/My Drive/BBC News Summary/Summaries1/tech/002.txt\"\n        ],\n        \"semantic_type\": \"\",\n        \"description\": \"\"\n      }\n    },\n    {\n      \"column\": \"text\",\n      \"properties\": {\n        \"dtype\": \"string\",\n        \"num_unique_values\": 5,\n        \"samples\": [\n          \"He said one laptop per child could be \\\" very important to the development of not just that child but now the whole family, village and neighbourhood\\\".He said the child could use the laptop like a text book.Mr Negroponte wants the laptops to become more common than mobile phones but conceded this was ambitious.That's for five or six years, so if we can distribute and sell laptops in quantities of one million or more to ministries of education that's cheaper and the marketing overheads go away.\\\"Nicholas Negroponte, chairman and founder of MIT's Media Labs, says he is developing a laptop PC that will go on sale for less than $100 (\\u00a353).The concept is based on experiments in the US state of Maine, where children were given laptop computers to take home and do their work on.However, Mr Negroponte has adapted the idea to his own work in Cambodia where he set up two schools together with his wife and gave the children laptops.\\\"Nokia make 200 million cell phones a year, so for us to claim we're going to make 200 million laptops is a big number, but we're not talking about doing it in three or five years, we're talking about months.\\\"\",\n          \"The Agricultural Information Project for Farmers of the Chancay-Huaral Valley also provides vital links between local organisations in charge of water irrigation, enabling them to coordinate their actions.One of the key elements of the project is the Agricultural Information System, with its flagship huaral.org website.The information network also allows farmers to look beyond their own region, and share experiences with other colleagues from the rest of Peru and even around the world.A network of community computer centres, linked by wireless technology, is providing a helping hand for poor farmers in Peru.\\\"Throughout the last three years, the people have provided a vital thrust to the project; they feel it belongs to them,\\\" said Mr Saldarriaga.The Board of Irrigation Users which runs the computer centres, aims to make the network self-sustainable within three years, through the cash generated by using the telecentres as internet cafes.The system also helps the inhabitants of the Chancay-Huaral Valley to organise their vital irrigation systems.\\\"The plan includes training on computers and internet skills for both operators and users of the system,\\\" said Carlos Saldarriaga, technical coordinator at Cepes.It is a precious element in Peru's coastal areas, because it is so scarce, and therefore it is necessary to have proper irrigation systems to make the most of it,\\\" Mr Saldarriaga told the BBC News website.Now, with the wireless network, Cuyo as well as the other communities is no longer isolated.The network has been three years in the making and was officially inaugurated in September.The non-government organisation, Cepes (Peruvian Centre for Social Studies) led the $200,000 project, also backed by local institutions, the Education and Agriculture ministries, and European development organisations.\",\n          \"Laws on net cafe opening hours and who can use them were introduced in 2002 following a fire at one cafe that killed 25 people.Chinese authorities closed 12,575 net cafes in the closing months of 2004, the country's government said.China has long been worried that net cafes are an unhealthy influence on young people.This is not the first time that the Chinese government has moved against net cafes that are not operating within its strict guidelines.The hours that children can use net cafes are also tightly regulated.According to the official news agency most of the net cafes were closed down because they were operating illegally.In August 2004 Chinese authorities shut down 700 websites and arrested 224 people in a crackdown on net porn.Net cafes are hugely popular in China because the relatively high cost of computer hardware means that few people have PCs in their homes.\"\n        ],\n        \"semantic_type\": \"\",\n        \"description\": \"\"\n      }\n    }\n  ]\n}",
       "type": "dataframe"
      },
      "text/html": [
       "\n",
       "  <div id=\"df-b81df7b5-6230-45e3-8e2d-57a0b253491c\" class=\"colab-df-container\">\n",
       "    <div>\n",
       "<style scoped>\n",
       "    .dataframe tbody tr th:only-of-type {\n",
       "        vertical-align: middle;\n",
       "    }\n",
       "\n",
       "    .dataframe tbody tr th {\n",
       "        vertical-align: top;\n",
       "    }\n",
       "\n",
       "    .dataframe thead th {\n",
       "        text-align: right;\n",
       "    }\n",
       "</style>\n",
       "<table border=\"1\" class=\"dataframe\">\n",
       "  <thead>\n",
       "    <tr style=\"text-align: right;\">\n",
       "      <th></th>\n",
       "      <th>filename</th>\n",
       "      <th>text</th>\n",
       "    </tr>\n",
       "  </thead>\n",
       "  <tbody>\n",
       "    <tr>\n",
       "      <th>0</th>\n",
       "      <td>file:/content/drive/My Drive/BBC News Summary/...</td>\n",
       "      <td>\"We are hoping to understand the creative indu...</td>\n",
       "    </tr>\n",
       "    <tr>\n",
       "      <th>1</th>\n",
       "      <td>file:/content/drive/My Drive/BBC News Summary/...</td>\n",
       "      <td>He said one laptop per child could be \" very i...</td>\n",
       "    </tr>\n",
       "    <tr>\n",
       "      <th>2</th>\n",
       "      <td>file:/content/drive/My Drive/BBC News Summary/...</td>\n",
       "      <td>Laws on net cafe opening hours and who can use...</td>\n",
       "    </tr>\n",
       "    <tr>\n",
       "      <th>3</th>\n",
       "      <td>file:/content/drive/My Drive/BBC News Summary/...</td>\n",
       "      <td>The other common type of ink in elections is i...</td>\n",
       "    </tr>\n",
       "    <tr>\n",
       "      <th>4</th>\n",
       "      <td>file:/content/drive/My Drive/BBC News Summary/...</td>\n",
       "      <td>The Agricultural Information Project for Farme...</td>\n",
       "    </tr>\n",
       "  </tbody>\n",
       "</table>\n",
       "</div>\n",
       "    <div class=\"colab-df-buttons\">\n",
       "\n",
       "  <div class=\"colab-df-container\">\n",
       "    <button class=\"colab-df-convert\" onclick=\"convertToInteractive('df-b81df7b5-6230-45e3-8e2d-57a0b253491c')\"\n",
       "            title=\"Convert this dataframe to an interactive table.\"\n",
       "            style=\"display:none;\">\n",
       "\n",
       "  <svg xmlns=\"http://www.w3.org/2000/svg\" height=\"24px\" viewBox=\"0 -960 960 960\">\n",
       "    <path d=\"M120-120v-720h720v720H120Zm60-500h600v-160H180v160Zm220 220h160v-160H400v160Zm0 220h160v-160H400v160ZM180-400h160v-160H180v160Zm440 0h160v-160H620v160ZM180-180h160v-160H180v160Zm440 0h160v-160H620v160Z\"/>\n",
       "  </svg>\n",
       "    </button>\n",
       "\n",
       "  <style>\n",
       "    .colab-df-container {\n",
       "      display:flex;\n",
       "      gap: 12px;\n",
       "    }\n",
       "\n",
       "    .colab-df-convert {\n",
       "      background-color: #E8F0FE;\n",
       "      border: none;\n",
       "      border-radius: 50%;\n",
       "      cursor: pointer;\n",
       "      display: none;\n",
       "      fill: #1967D2;\n",
       "      height: 32px;\n",
       "      padding: 0 0 0 0;\n",
       "      width: 32px;\n",
       "    }\n",
       "\n",
       "    .colab-df-convert:hover {\n",
       "      background-color: #E2EBFA;\n",
       "      box-shadow: 0px 1px 2px rgba(60, 64, 67, 0.3), 0px 1px 3px 1px rgba(60, 64, 67, 0.15);\n",
       "      fill: #174EA6;\n",
       "    }\n",
       "\n",
       "    .colab-df-buttons div {\n",
       "      margin-bottom: 4px;\n",
       "    }\n",
       "\n",
       "    [theme=dark] .colab-df-convert {\n",
       "      background-color: #3B4455;\n",
       "      fill: #D2E3FC;\n",
       "    }\n",
       "\n",
       "    [theme=dark] .colab-df-convert:hover {\n",
       "      background-color: #434B5C;\n",
       "      box-shadow: 0px 1px 3px 1px rgba(0, 0, 0, 0.15);\n",
       "      filter: drop-shadow(0px 1px 2px rgba(0, 0, 0, 0.3));\n",
       "      fill: #FFFFFF;\n",
       "    }\n",
       "  </style>\n",
       "\n",
       "    <script>\n",
       "      const buttonEl =\n",
       "        document.querySelector('#df-b81df7b5-6230-45e3-8e2d-57a0b253491c button.colab-df-convert');\n",
       "      buttonEl.style.display =\n",
       "        google.colab.kernel.accessAllowed ? 'block' : 'none';\n",
       "\n",
       "      async function convertToInteractive(key) {\n",
       "        const element = document.querySelector('#df-b81df7b5-6230-45e3-8e2d-57a0b253491c');\n",
       "        const dataTable =\n",
       "          await google.colab.kernel.invokeFunction('convertToInteractive',\n",
       "                                                    [key], {});\n",
       "        if (!dataTable) return;\n",
       "\n",
       "        const docLinkHtml = 'Like what you see? Visit the ' +\n",
       "          '<a target=\"_blank\" href=https://colab.research.google.com/notebooks/data_table.ipynb>data table notebook</a>'\n",
       "          + ' to learn more about interactive tables.';\n",
       "        element.innerHTML = '';\n",
       "        dataTable['output_type'] = 'display_data';\n",
       "        await google.colab.output.renderOutput(dataTable, element);\n",
       "        const docLink = document.createElement('div');\n",
       "        docLink.innerHTML = docLinkHtml;\n",
       "        element.appendChild(docLink);\n",
       "      }\n",
       "    </script>\n",
       "  </div>\n",
       "\n",
       "\n",
       "<div id=\"df-349b81fa-20d3-4dde-ac16-7d21bc478ca3\">\n",
       "  <button class=\"colab-df-quickchart\" onclick=\"quickchart('df-349b81fa-20d3-4dde-ac16-7d21bc478ca3')\"\n",
       "            title=\"Suggest charts\"\n",
       "            style=\"display:none;\">\n",
       "\n",
       "<svg xmlns=\"http://www.w3.org/2000/svg\" height=\"24px\"viewBox=\"0 0 24 24\"\n",
       "     width=\"24px\">\n",
       "    <g>\n",
       "        <path d=\"M19 3H5c-1.1 0-2 .9-2 2v14c0 1.1.9 2 2 2h14c1.1 0 2-.9 2-2V5c0-1.1-.9-2-2-2zM9 17H7v-7h2v7zm4 0h-2V7h2v10zm4 0h-2v-4h2v4z\"/>\n",
       "    </g>\n",
       "</svg>\n",
       "  </button>\n",
       "\n",
       "<style>\n",
       "  .colab-df-quickchart {\n",
       "      --bg-color: #E8F0FE;\n",
       "      --fill-color: #1967D2;\n",
       "      --hover-bg-color: #E2EBFA;\n",
       "      --hover-fill-color: #174EA6;\n",
       "      --disabled-fill-color: #AAA;\n",
       "      --disabled-bg-color: #DDD;\n",
       "  }\n",
       "\n",
       "  [theme=dark] .colab-df-quickchart {\n",
       "      --bg-color: #3B4455;\n",
       "      --fill-color: #D2E3FC;\n",
       "      --hover-bg-color: #434B5C;\n",
       "      --hover-fill-color: #FFFFFF;\n",
       "      --disabled-bg-color: #3B4455;\n",
       "      --disabled-fill-color: #666;\n",
       "  }\n",
       "\n",
       "  .colab-df-quickchart {\n",
       "    background-color: var(--bg-color);\n",
       "    border: none;\n",
       "    border-radius: 50%;\n",
       "    cursor: pointer;\n",
       "    display: none;\n",
       "    fill: var(--fill-color);\n",
       "    height: 32px;\n",
       "    padding: 0;\n",
       "    width: 32px;\n",
       "  }\n",
       "\n",
       "  .colab-df-quickchart:hover {\n",
       "    background-color: var(--hover-bg-color);\n",
       "    box-shadow: 0 1px 2px rgba(60, 64, 67, 0.3), 0 1px 3px 1px rgba(60, 64, 67, 0.15);\n",
       "    fill: var(--button-hover-fill-color);\n",
       "  }\n",
       "\n",
       "  .colab-df-quickchart-complete:disabled,\n",
       "  .colab-df-quickchart-complete:disabled:hover {\n",
       "    background-color: var(--disabled-bg-color);\n",
       "    fill: var(--disabled-fill-color);\n",
       "    box-shadow: none;\n",
       "  }\n",
       "\n",
       "  .colab-df-spinner {\n",
       "    border: 2px solid var(--fill-color);\n",
       "    border-color: transparent;\n",
       "    border-bottom-color: var(--fill-color);\n",
       "    animation:\n",
       "      spin 1s steps(1) infinite;\n",
       "  }\n",
       "\n",
       "  @keyframes spin {\n",
       "    0% {\n",
       "      border-color: transparent;\n",
       "      border-bottom-color: var(--fill-color);\n",
       "      border-left-color: var(--fill-color);\n",
       "    }\n",
       "    20% {\n",
       "      border-color: transparent;\n",
       "      border-left-color: var(--fill-color);\n",
       "      border-top-color: var(--fill-color);\n",
       "    }\n",
       "    30% {\n",
       "      border-color: transparent;\n",
       "      border-left-color: var(--fill-color);\n",
       "      border-top-color: var(--fill-color);\n",
       "      border-right-color: var(--fill-color);\n",
       "    }\n",
       "    40% {\n",
       "      border-color: transparent;\n",
       "      border-right-color: var(--fill-color);\n",
       "      border-top-color: var(--fill-color);\n",
       "    }\n",
       "    60% {\n",
       "      border-color: transparent;\n",
       "      border-right-color: var(--fill-color);\n",
       "    }\n",
       "    80% {\n",
       "      border-color: transparent;\n",
       "      border-right-color: var(--fill-color);\n",
       "      border-bottom-color: var(--fill-color);\n",
       "    }\n",
       "    90% {\n",
       "      border-color: transparent;\n",
       "      border-bottom-color: var(--fill-color);\n",
       "    }\n",
       "  }\n",
       "</style>\n",
       "\n",
       "  <script>\n",
       "    async function quickchart(key) {\n",
       "      const quickchartButtonEl =\n",
       "        document.querySelector('#' + key + ' button');\n",
       "      quickchartButtonEl.disabled = true;  // To prevent multiple clicks.\n",
       "      quickchartButtonEl.classList.add('colab-df-spinner');\n",
       "      try {\n",
       "        const charts = await google.colab.kernel.invokeFunction(\n",
       "            'suggestCharts', [key], {});\n",
       "      } catch (error) {\n",
       "        console.error('Error during call to suggestCharts:', error);\n",
       "      }\n",
       "      quickchartButtonEl.classList.remove('colab-df-spinner');\n",
       "      quickchartButtonEl.classList.add('colab-df-quickchart-complete');\n",
       "    }\n",
       "    (() => {\n",
       "      let quickchartButtonEl =\n",
       "        document.querySelector('#df-349b81fa-20d3-4dde-ac16-7d21bc478ca3 button');\n",
       "      quickchartButtonEl.style.display =\n",
       "        google.colab.kernel.accessAllowed ? 'block' : 'none';\n",
       "    })();\n",
       "  </script>\n",
       "</div>\n",
       "\n",
       "    </div>\n",
       "  </div>\n"
      ],
      "text/plain": [
       "                                            filename  \\\n",
       "0  file:/content/drive/My Drive/BBC News Summary/...   \n",
       "1  file:/content/drive/My Drive/BBC News Summary/...   \n",
       "2  file:/content/drive/My Drive/BBC News Summary/...   \n",
       "3  file:/content/drive/My Drive/BBC News Summary/...   \n",
       "4  file:/content/drive/My Drive/BBC News Summary/...   \n",
       "\n",
       "                                                text  \n",
       "0  \"We are hoping to understand the creative indu...  \n",
       "1  He said one laptop per child could be \" very i...  \n",
       "2  Laws on net cafe opening hours and who can use...  \n",
       "3  The other common type of ink in elections is i...  \n",
       "4  The Agricultural Information Project for Farme...  "
      ]
     },
     "execution_count": 9,
     "metadata": {},
     "output_type": "execute_result"
    }
   ],
   "source": [
    "# We can convert the Spark NLP dataframe to Pandas dataframe\n",
    "texts.limit(5).toPandas()"
   ]
  },
  {
   "cell_type": "code",
   "execution_count": null,
   "metadata": {
    "id": "INS0sT4hoSW7"
   },
   "outputs": [],
   "source": [
    "# Create a new column that stores the article topics for the text summarries\n",
    "# Note: getItem will get the item by its index, which starts from 0\n",
    "texts = texts.withColumn(\n",
    "  'topic',\n",
    "  fun.split('filename', '/').getItem(6)\n",
    "  )"
   ]
  },
  {
   "cell_type": "code",
   "execution_count": null,
   "metadata": {
    "colab": {
     "base_uri": "https://localhost:8080/",
     "height": 206
    },
    "executionInfo": {
     "elapsed": 1228,
     "status": "ok",
     "timestamp": 1720008579583,
     "user": {
      "displayName": "Bhaskar Reddy",
      "userId": "14970899258772530374"
     },
     "user_tz": -330
    },
    "id": "O1MZe6-fpToa",
    "outputId": "7fa13aa1-10ae-4882-8533-a865a5bb79ed"
   },
   "outputs": [
    {
     "data": {
      "application/vnd.google.colaboratory.intrinsic+json": {
       "summary": "{\n  \"name\": \"texts\",\n  \"rows\": 5,\n  \"fields\": [\n    {\n      \"column\": \"filename\",\n      \"properties\": {\n        \"dtype\": \"string\",\n        \"num_unique_values\": 5,\n        \"samples\": [\n          \"file:/content/drive/My Drive/BBC News Summary/Summaries1/tech/004.txt\",\n          \"file:/content/drive/My Drive/BBC News Summary/Summaries1/tech/006.txt\",\n          \"file:/content/drive/My Drive/BBC News Summary/Summaries1/tech/002.txt\"\n        ],\n        \"semantic_type\": \"\",\n        \"description\": \"\"\n      }\n    },\n    {\n      \"column\": \"text\",\n      \"properties\": {\n        \"dtype\": \"string\",\n        \"num_unique_values\": 5,\n        \"samples\": [\n          \"He said one laptop per child could be \\\" very important to the development of not just that child but now the whole family, village and neighbourhood\\\".He said the child could use the laptop like a text book.Mr Negroponte wants the laptops to become more common than mobile phones but conceded this was ambitious.That's for five or six years, so if we can distribute and sell laptops in quantities of one million or more to ministries of education that's cheaper and the marketing overheads go away.\\\"Nicholas Negroponte, chairman and founder of MIT's Media Labs, says he is developing a laptop PC that will go on sale for less than $100 (\\u00a353).The concept is based on experiments in the US state of Maine, where children were given laptop computers to take home and do their work on.However, Mr Negroponte has adapted the idea to his own work in Cambodia where he set up two schools together with his wife and gave the children laptops.\\\"Nokia make 200 million cell phones a year, so for us to claim we're going to make 200 million laptops is a big number, but we're not talking about doing it in three or five years, we're talking about months.\\\"\",\n          \"The Agricultural Information Project for Farmers of the Chancay-Huaral Valley also provides vital links between local organisations in charge of water irrigation, enabling them to coordinate their actions.One of the key elements of the project is the Agricultural Information System, with its flagship huaral.org website.The information network also allows farmers to look beyond their own region, and share experiences with other colleagues from the rest of Peru and even around the world.A network of community computer centres, linked by wireless technology, is providing a helping hand for poor farmers in Peru.\\\"Throughout the last three years, the people have provided a vital thrust to the project; they feel it belongs to them,\\\" said Mr Saldarriaga.The Board of Irrigation Users which runs the computer centres, aims to make the network self-sustainable within three years, through the cash generated by using the telecentres as internet cafes.The system also helps the inhabitants of the Chancay-Huaral Valley to organise their vital irrigation systems.\\\"The plan includes training on computers and internet skills for both operators and users of the system,\\\" said Carlos Saldarriaga, technical coordinator at Cepes.It is a precious element in Peru's coastal areas, because it is so scarce, and therefore it is necessary to have proper irrigation systems to make the most of it,\\\" Mr Saldarriaga told the BBC News website.Now, with the wireless network, Cuyo as well as the other communities is no longer isolated.The network has been three years in the making and was officially inaugurated in September.The non-government organisation, Cepes (Peruvian Centre for Social Studies) led the $200,000 project, also backed by local institutions, the Education and Agriculture ministries, and European development organisations.\",\n          \"Laws on net cafe opening hours and who can use them were introduced in 2002 following a fire at one cafe that killed 25 people.Chinese authorities closed 12,575 net cafes in the closing months of 2004, the country's government said.China has long been worried that net cafes are an unhealthy influence on young people.This is not the first time that the Chinese government has moved against net cafes that are not operating within its strict guidelines.The hours that children can use net cafes are also tightly regulated.According to the official news agency most of the net cafes were closed down because they were operating illegally.In August 2004 Chinese authorities shut down 700 websites and arrested 224 people in a crackdown on net porn.Net cafes are hugely popular in China because the relatively high cost of computer hardware means that few people have PCs in their homes.\"\n        ],\n        \"semantic_type\": \"\",\n        \"description\": \"\"\n      }\n    },\n    {\n      \"column\": \"topic\",\n      \"properties\": {\n        \"dtype\": \"category\",\n        \"num_unique_values\": 1,\n        \"samples\": [\n          \"tech\"\n        ],\n        \"semantic_type\": \"\",\n        \"description\": \"\"\n      }\n    }\n  ]\n}",
       "type": "dataframe"
      },
      "text/html": [
       "\n",
       "  <div id=\"df-218a6ae7-3486-46df-b2ba-a726ffde771e\" class=\"colab-df-container\">\n",
       "    <div>\n",
       "<style scoped>\n",
       "    .dataframe tbody tr th:only-of-type {\n",
       "        vertical-align: middle;\n",
       "    }\n",
       "\n",
       "    .dataframe tbody tr th {\n",
       "        vertical-align: top;\n",
       "    }\n",
       "\n",
       "    .dataframe thead th {\n",
       "        text-align: right;\n",
       "    }\n",
       "</style>\n",
       "<table border=\"1\" class=\"dataframe\">\n",
       "  <thead>\n",
       "    <tr style=\"text-align: right;\">\n",
       "      <th></th>\n",
       "      <th>filename</th>\n",
       "      <th>text</th>\n",
       "      <th>topic</th>\n",
       "    </tr>\n",
       "  </thead>\n",
       "  <tbody>\n",
       "    <tr>\n",
       "      <th>0</th>\n",
       "      <td>file:/content/drive/My Drive/BBC News Summary/...</td>\n",
       "      <td>\"We are hoping to understand the creative indu...</td>\n",
       "      <td>tech</td>\n",
       "    </tr>\n",
       "    <tr>\n",
       "      <th>1</th>\n",
       "      <td>file:/content/drive/My Drive/BBC News Summary/...</td>\n",
       "      <td>He said one laptop per child could be \" very i...</td>\n",
       "      <td>tech</td>\n",
       "    </tr>\n",
       "    <tr>\n",
       "      <th>2</th>\n",
       "      <td>file:/content/drive/My Drive/BBC News Summary/...</td>\n",
       "      <td>Laws on net cafe opening hours and who can use...</td>\n",
       "      <td>tech</td>\n",
       "    </tr>\n",
       "    <tr>\n",
       "      <th>3</th>\n",
       "      <td>file:/content/drive/My Drive/BBC News Summary/...</td>\n",
       "      <td>The other common type of ink in elections is i...</td>\n",
       "      <td>tech</td>\n",
       "    </tr>\n",
       "    <tr>\n",
       "      <th>4</th>\n",
       "      <td>file:/content/drive/My Drive/BBC News Summary/...</td>\n",
       "      <td>The Agricultural Information Project for Farme...</td>\n",
       "      <td>tech</td>\n",
       "    </tr>\n",
       "  </tbody>\n",
       "</table>\n",
       "</div>\n",
       "    <div class=\"colab-df-buttons\">\n",
       "\n",
       "  <div class=\"colab-df-container\">\n",
       "    <button class=\"colab-df-convert\" onclick=\"convertToInteractive('df-218a6ae7-3486-46df-b2ba-a726ffde771e')\"\n",
       "            title=\"Convert this dataframe to an interactive table.\"\n",
       "            style=\"display:none;\">\n",
       "\n",
       "  <svg xmlns=\"http://www.w3.org/2000/svg\" height=\"24px\" viewBox=\"0 -960 960 960\">\n",
       "    <path d=\"M120-120v-720h720v720H120Zm60-500h600v-160H180v160Zm220 220h160v-160H400v160Zm0 220h160v-160H400v160ZM180-400h160v-160H180v160Zm440 0h160v-160H620v160ZM180-180h160v-160H180v160Zm440 0h160v-160H620v160Z\"/>\n",
       "  </svg>\n",
       "    </button>\n",
       "\n",
       "  <style>\n",
       "    .colab-df-container {\n",
       "      display:flex;\n",
       "      gap: 12px;\n",
       "    }\n",
       "\n",
       "    .colab-df-convert {\n",
       "      background-color: #E8F0FE;\n",
       "      border: none;\n",
       "      border-radius: 50%;\n",
       "      cursor: pointer;\n",
       "      display: none;\n",
       "      fill: #1967D2;\n",
       "      height: 32px;\n",
       "      padding: 0 0 0 0;\n",
       "      width: 32px;\n",
       "    }\n",
       "\n",
       "    .colab-df-convert:hover {\n",
       "      background-color: #E2EBFA;\n",
       "      box-shadow: 0px 1px 2px rgba(60, 64, 67, 0.3), 0px 1px 3px 1px rgba(60, 64, 67, 0.15);\n",
       "      fill: #174EA6;\n",
       "    }\n",
       "\n",
       "    .colab-df-buttons div {\n",
       "      margin-bottom: 4px;\n",
       "    }\n",
       "\n",
       "    [theme=dark] .colab-df-convert {\n",
       "      background-color: #3B4455;\n",
       "      fill: #D2E3FC;\n",
       "    }\n",
       "\n",
       "    [theme=dark] .colab-df-convert:hover {\n",
       "      background-color: #434B5C;\n",
       "      box-shadow: 0px 1px 3px 1px rgba(0, 0, 0, 0.15);\n",
       "      filter: drop-shadow(0px 1px 2px rgba(0, 0, 0, 0.3));\n",
       "      fill: #FFFFFF;\n",
       "    }\n",
       "  </style>\n",
       "\n",
       "    <script>\n",
       "      const buttonEl =\n",
       "        document.querySelector('#df-218a6ae7-3486-46df-b2ba-a726ffde771e button.colab-df-convert');\n",
       "      buttonEl.style.display =\n",
       "        google.colab.kernel.accessAllowed ? 'block' : 'none';\n",
       "\n",
       "      async function convertToInteractive(key) {\n",
       "        const element = document.querySelector('#df-218a6ae7-3486-46df-b2ba-a726ffde771e');\n",
       "        const dataTable =\n",
       "          await google.colab.kernel.invokeFunction('convertToInteractive',\n",
       "                                                    [key], {});\n",
       "        if (!dataTable) return;\n",
       "\n",
       "        const docLinkHtml = 'Like what you see? Visit the ' +\n",
       "          '<a target=\"_blank\" href=https://colab.research.google.com/notebooks/data_table.ipynb>data table notebook</a>'\n",
       "          + ' to learn more about interactive tables.';\n",
       "        element.innerHTML = '';\n",
       "        dataTable['output_type'] = 'display_data';\n",
       "        await google.colab.output.renderOutput(dataTable, element);\n",
       "        const docLink = document.createElement('div');\n",
       "        docLink.innerHTML = docLinkHtml;\n",
       "        element.appendChild(docLink);\n",
       "      }\n",
       "    </script>\n",
       "  </div>\n",
       "\n",
       "\n",
       "<div id=\"df-59666a25-af43-48ac-9659-5be30ba3802b\">\n",
       "  <button class=\"colab-df-quickchart\" onclick=\"quickchart('df-59666a25-af43-48ac-9659-5be30ba3802b')\"\n",
       "            title=\"Suggest charts\"\n",
       "            style=\"display:none;\">\n",
       "\n",
       "<svg xmlns=\"http://www.w3.org/2000/svg\" height=\"24px\"viewBox=\"0 0 24 24\"\n",
       "     width=\"24px\">\n",
       "    <g>\n",
       "        <path d=\"M19 3H5c-1.1 0-2 .9-2 2v14c0 1.1.9 2 2 2h14c1.1 0 2-.9 2-2V5c0-1.1-.9-2-2-2zM9 17H7v-7h2v7zm4 0h-2V7h2v10zm4 0h-2v-4h2v4z\"/>\n",
       "    </g>\n",
       "</svg>\n",
       "  </button>\n",
       "\n",
       "<style>\n",
       "  .colab-df-quickchart {\n",
       "      --bg-color: #E8F0FE;\n",
       "      --fill-color: #1967D2;\n",
       "      --hover-bg-color: #E2EBFA;\n",
       "      --hover-fill-color: #174EA6;\n",
       "      --disabled-fill-color: #AAA;\n",
       "      --disabled-bg-color: #DDD;\n",
       "  }\n",
       "\n",
       "  [theme=dark] .colab-df-quickchart {\n",
       "      --bg-color: #3B4455;\n",
       "      --fill-color: #D2E3FC;\n",
       "      --hover-bg-color: #434B5C;\n",
       "      --hover-fill-color: #FFFFFF;\n",
       "      --disabled-bg-color: #3B4455;\n",
       "      --disabled-fill-color: #666;\n",
       "  }\n",
       "\n",
       "  .colab-df-quickchart {\n",
       "    background-color: var(--bg-color);\n",
       "    border: none;\n",
       "    border-radius: 50%;\n",
       "    cursor: pointer;\n",
       "    display: none;\n",
       "    fill: var(--fill-color);\n",
       "    height: 32px;\n",
       "    padding: 0;\n",
       "    width: 32px;\n",
       "  }\n",
       "\n",
       "  .colab-df-quickchart:hover {\n",
       "    background-color: var(--hover-bg-color);\n",
       "    box-shadow: 0 1px 2px rgba(60, 64, 67, 0.3), 0 1px 3px 1px rgba(60, 64, 67, 0.15);\n",
       "    fill: var(--button-hover-fill-color);\n",
       "  }\n",
       "\n",
       "  .colab-df-quickchart-complete:disabled,\n",
       "  .colab-df-quickchart-complete:disabled:hover {\n",
       "    background-color: var(--disabled-bg-color);\n",
       "    fill: var(--disabled-fill-color);\n",
       "    box-shadow: none;\n",
       "  }\n",
       "\n",
       "  .colab-df-spinner {\n",
       "    border: 2px solid var(--fill-color);\n",
       "    border-color: transparent;\n",
       "    border-bottom-color: var(--fill-color);\n",
       "    animation:\n",
       "      spin 1s steps(1) infinite;\n",
       "  }\n",
       "\n",
       "  @keyframes spin {\n",
       "    0% {\n",
       "      border-color: transparent;\n",
       "      border-bottom-color: var(--fill-color);\n",
       "      border-left-color: var(--fill-color);\n",
       "    }\n",
       "    20% {\n",
       "      border-color: transparent;\n",
       "      border-left-color: var(--fill-color);\n",
       "      border-top-color: var(--fill-color);\n",
       "    }\n",
       "    30% {\n",
       "      border-color: transparent;\n",
       "      border-left-color: var(--fill-color);\n",
       "      border-top-color: var(--fill-color);\n",
       "      border-right-color: var(--fill-color);\n",
       "    }\n",
       "    40% {\n",
       "      border-color: transparent;\n",
       "      border-right-color: var(--fill-color);\n",
       "      border-top-color: var(--fill-color);\n",
       "    }\n",
       "    60% {\n",
       "      border-color: transparent;\n",
       "      border-right-color: var(--fill-color);\n",
       "    }\n",
       "    80% {\n",
       "      border-color: transparent;\n",
       "      border-right-color: var(--fill-color);\n",
       "      border-bottom-color: var(--fill-color);\n",
       "    }\n",
       "    90% {\n",
       "      border-color: transparent;\n",
       "      border-bottom-color: var(--fill-color);\n",
       "    }\n",
       "  }\n",
       "</style>\n",
       "\n",
       "  <script>\n",
       "    async function quickchart(key) {\n",
       "      const quickchartButtonEl =\n",
       "        document.querySelector('#' + key + ' button');\n",
       "      quickchartButtonEl.disabled = true;  // To prevent multiple clicks.\n",
       "      quickchartButtonEl.classList.add('colab-df-spinner');\n",
       "      try {\n",
       "        const charts = await google.colab.kernel.invokeFunction(\n",
       "            'suggestCharts', [key], {});\n",
       "      } catch (error) {\n",
       "        console.error('Error during call to suggestCharts:', error);\n",
       "      }\n",
       "      quickchartButtonEl.classList.remove('colab-df-spinner');\n",
       "      quickchartButtonEl.classList.add('colab-df-quickchart-complete');\n",
       "    }\n",
       "    (() => {\n",
       "      let quickchartButtonEl =\n",
       "        document.querySelector('#df-59666a25-af43-48ac-9659-5be30ba3802b button');\n",
       "      quickchartButtonEl.style.display =\n",
       "        google.colab.kernel.accessAllowed ? 'block' : 'none';\n",
       "    })();\n",
       "  </script>\n",
       "</div>\n",
       "\n",
       "    </div>\n",
       "  </div>\n"
      ],
      "text/plain": [
       "                                            filename  \\\n",
       "0  file:/content/drive/My Drive/BBC News Summary/...   \n",
       "1  file:/content/drive/My Drive/BBC News Summary/...   \n",
       "2  file:/content/drive/My Drive/BBC News Summary/...   \n",
       "3  file:/content/drive/My Drive/BBC News Summary/...   \n",
       "4  file:/content/drive/My Drive/BBC News Summary/...   \n",
       "\n",
       "                                                text topic  \n",
       "0  \"We are hoping to understand the creative indu...  tech  \n",
       "1  He said one laptop per child could be \" very i...  tech  \n",
       "2  Laws on net cafe opening hours and who can use...  tech  \n",
       "3  The other common type of ink in elections is i...  tech  \n",
       "4  The Agricultural Information Project for Farme...  tech  "
      ]
     },
     "execution_count": 14,
     "metadata": {},
     "output_type": "execute_result"
    }
   ],
   "source": [
    " # Take a look at the newly created label column\n",
    "texts.limit(5).toPandas()"
   ]
  },
  {
   "cell_type": "code",
   "execution_count": null,
   "metadata": {
    "colab": {
     "base_uri": "https://localhost:8080/",
     "height": 549
    },
    "executionInfo": {
     "elapsed": 3961,
     "status": "ok",
     "timestamp": 1720008587259,
     "user": {
      "displayName": "Bhaskar Reddy",
      "userId": "14970899258772530374"
     },
     "user_tz": -330
    },
    "id": "F6xBDgxUqUw4",
    "outputId": "a5de39a1-8bd9-4077-f2cc-59b25bd57e26"
   },
   "outputs": [
    {
     "data": {
      "text/plain": [
       "([<matplotlib.axis.XTick at 0x7af444b655a0>,\n",
       "  <matplotlib.axis.XTick at 0x7af444b65570>,\n",
       "  <matplotlib.axis.XTick at 0x7af4449c20e0>],\n",
       " [Text(0, 0, 'politics'), Text(1, 0, 'tech'), Text(2, 0, 'sport')])"
      ]
     },
     "execution_count": 15,
     "metadata": {},
     "output_type": "execute_result"
    },
    {
     "data": {
      "image/png": "[encoded data removed]",
      "text/plain": [
       "<Figure size 1000x500 with 1 Axes>"
      ]
     },
     "metadata": {},
     "output_type": "display_data"
    }
   ],
   "source": [
    "# Take a look at the number of documents pertaining to each label\n",
    "label_counts = texts.groupBy('topic').count().toPandas()\n",
    "label_counts.plot(kind = 'bar', figsize = (10, 5))\n",
    "plt.xticks(\n",
    "  ticks = range(len(label_counts)),\n",
    "  labels = label_counts['topic']\n",
    " )"
   ]
  },
  {
   "cell_type": "code",
   "execution_count": null,
   "metadata": {
    "colab": {
     "base_uri": "https://localhost:8080/",
     "height": 549
    },
    "executionInfo": {
     "elapsed": 528,
     "status": "ok",
     "timestamp": 1720008592252,
     "user": {
      "displayName": "Bhaskar Reddy",
      "userId": "14970899258772530374"
     },
     "user_tz": -330
    },
    "id": "B7YOlY_9F2NY",
    "outputId": "6e925968-a0d3-46fe-efc4-42aeab331205"
   },
   "outputs": [
    {
     "data": {
      "text/plain": [
       "([<matplotlib.axis.XTick at 0x7af437cf16f0>,\n",
       "  <matplotlib.axis.XTick at 0x7af437cf16c0>,\n",
       "  <matplotlib.axis.XTick at 0x7af43df1dea0>],\n",
       " [Text(0, 0, 'politics'), Text(1, 0, 'tech'), Text(2, 0, 'sport')])"
      ]
     },
     "execution_count": 16,
     "metadata": {},
     "output_type": "execute_result"
    },
    {
     "data": {
      "image/png": "[encoded data removed]",
      "text/plain": [
       "<Figure size 1000x500 with 1 Axes>"
      ]
     },
     "metadata": {},
     "output_type": "display_data"
    }
   ],
   "source": [
    "label_counts.plot(kind = 'bar', figsize = (10, 5))\n",
    "plt.xticks(\n",
    "  ticks = range(len(label_counts)),\n",
    "  labels = label_counts['topic']\n",
    " )"
   ]
  },
  {
   "cell_type": "code",
   "execution_count": null,
   "metadata": {
    "colab": {
     "base_uri": "https://localhost:8080/"
    },
    "executionInfo": {
     "elapsed": 470,
     "status": "ok",
     "timestamp": 1720008596320,
     "user": {
      "displayName": "Bhaskar Reddy",
      "userId": "14970899258772530374"
     },
     "user_tz": -330
    },
    "id": "-wc9j-Fbq-le",
    "outputId": "88d29f6e-461f-423f-8a93-3112fabc50cb"
   },
   "outputs": [
    {
     "name": "stdout",
     "output_type": "stream",
     "text": [
      "root\n",
      " |-- filename: string (nullable = true)\n",
      " |-- text: string (nullable = true)\n",
      " |-- topic: string (nullable = true)\n",
      "\n"
     ]
    }
   ],
   "source": [
    "# Take a look at the schema of the Spark NLP dataframe\n",
    "texts.printSchema()"
   ]
  },
  {
   "cell_type": "code",
   "execution_count": null,
   "metadata": {
    "id": "7rxEbfcdtpw7"
   },
   "outputs": [],
   "source": [
    "# Randomly split the Spark NLP dataframe into train and test sets\n",
    "train, test = texts.randomSplit([0.8, 0.2], seed = 123)"
   ]
  },
  {
   "cell_type": "code",
   "execution_count": null,
   "metadata": {
    "colab": {
     "base_uri": "https://localhost:8080/",
     "height": 206
    },
    "executionInfo": {
     "elapsed": 2561,
     "status": "ok",
     "timestamp": 1720008604688,
     "user": {
      "displayName": "Bhaskar Reddy",
      "userId": "14970899258772530374"
     },
     "user_tz": -330
    },
    "id": "zVpQqdrpt7aM",
    "outputId": "f14acef7-cbdf-4607-ba26-d8ad39d01cfd"
   },
   "outputs": [
    {
     "data": {
      "application/vnd.google.colaboratory.intrinsic+json": {
       "summary": "{\n  \"name\": \"docs\",\n  \"rows\": 5,\n  \"fields\": [\n    {\n      \"column\": \"filename\",\n      \"properties\": {\n        \"dtype\": \"string\",\n        \"num_unique_values\": 5,\n        \"samples\": [\n          \"file:/content/drive/My Drive/BBC News Summary/Summaries1/tech/004.txt\",\n          \"file:/content/drive/My Drive/BBC News Summary/Summaries1/tech/006.txt\",\n          \"file:/content/drive/My Drive/BBC News Summary/Summaries1/tech/002.txt\"\n        ],\n        \"semantic_type\": \"\",\n        \"description\": \"\"\n      }\n    },\n    {\n      \"column\": \"text\",\n      \"properties\": {\n        \"dtype\": \"string\",\n        \"num_unique_values\": 5,\n        \"samples\": [\n          \"He said one laptop per child could be \\\" very important to the development of not just that child but now the whole family, village and neighbourhood\\\".He said the child could use the laptop like a text book.Mr Negroponte wants the laptops to become more common than mobile phones but conceded this was ambitious.That's for five or six years, so if we can distribute and sell laptops in quantities of one million or more to ministries of education that's cheaper and the marketing overheads go away.\\\"Nicholas Negroponte, chairman and founder of MIT's Media Labs, says he is developing a laptop PC that will go on sale for less than $100 (\\u00a353).The concept is based on experiments in the US state of Maine, where children were given laptop computers to take home and do their work on.However, Mr Negroponte has adapted the idea to his own work in Cambodia where he set up two schools together with his wife and gave the children laptops.\\\"Nokia make 200 million cell phones a year, so for us to claim we're going to make 200 million laptops is a big number, but we're not talking about doing it in three or five years, we're talking about months.\\\"\",\n          \"The Agricultural Information Project for Farmers of the Chancay-Huaral Valley also provides vital links between local organisations in charge of water irrigation, enabling them to coordinate their actions.One of the key elements of the project is the Agricultural Information System, with its flagship huaral.org website.The information network also allows farmers to look beyond their own region, and share experiences with other colleagues from the rest of Peru and even around the world.A network of community computer centres, linked by wireless technology, is providing a helping hand for poor farmers in Peru.\\\"Throughout the last three years, the people have provided a vital thrust to the project; they feel it belongs to them,\\\" said Mr Saldarriaga.The Board of Irrigation Users which runs the computer centres, aims to make the network self-sustainable within three years, through the cash generated by using the telecentres as internet cafes.The system also helps the inhabitants of the Chancay-Huaral Valley to organise their vital irrigation systems.\\\"The plan includes training on computers and internet skills for both operators and users of the system,\\\" said Carlos Saldarriaga, technical coordinator at Cepes.It is a precious element in Peru's coastal areas, because it is so scarce, and therefore it is necessary to have proper irrigation systems to make the most of it,\\\" Mr Saldarriaga told the BBC News website.Now, with the wireless network, Cuyo as well as the other communities is no longer isolated.The network has been three years in the making and was officially inaugurated in September.The non-government organisation, Cepes (Peruvian Centre for Social Studies) led the $200,000 project, also backed by local institutions, the Education and Agriculture ministries, and European development organisations.\",\n          \"Laws on net cafe opening hours and who can use them were introduced in 2002 following a fire at one cafe that killed 25 people.Chinese authorities closed 12,575 net cafes in the closing months of 2004, the country's government said.China has long been worried that net cafes are an unhealthy influence on young people.This is not the first time that the Chinese government has moved against net cafes that are not operating within its strict guidelines.The hours that children can use net cafes are also tightly regulated.According to the official news agency most of the net cafes were closed down because they were operating illegally.In August 2004 Chinese authorities shut down 700 websites and arrested 224 people in a crackdown on net porn.Net cafes are hugely popular in China because the relatively high cost of computer hardware means that few people have PCs in their homes.\"\n        ],\n        \"semantic_type\": \"\",\n        \"description\": \"\"\n      }\n    },\n    {\n      \"column\": \"topic\",\n      \"properties\": {\n        \"dtype\": \"category\",\n        \"num_unique_values\": 1,\n        \"samples\": [\n          \"tech\"\n        ],\n        \"semantic_type\": \"\",\n        \"description\": \"\"\n      }\n    },\n    {\n      \"column\": \"document\",\n      \"properties\": {\n        \"dtype\": \"object\",\n        \"semantic_type\": \"\",\n        \"description\": \"\"\n      }\n    }\n  ]\n}",
       "type": "dataframe"
      },
      "text/html": [
       "\n",
       "  <div id=\"df-d9bd3f65-44d6-4a6c-9206-6162e917d9f8\" class=\"colab-df-container\">\n",
       "    <div>\n",
       "<style scoped>\n",
       "    .dataframe tbody tr th:only-of-type {\n",
       "        vertical-align: middle;\n",
       "    }\n",
       "\n",
       "    .dataframe tbody tr th {\n",
       "        vertical-align: top;\n",
       "    }\n",
       "\n",
       "    .dataframe thead th {\n",
       "        text-align: right;\n",
       "    }\n",
       "</style>\n",
       "<table border=\"1\" class=\"dataframe\">\n",
       "  <thead>\n",
       "    <tr style=\"text-align: right;\">\n",
       "      <th></th>\n",
       "      <th>filename</th>\n",
       "      <th>text</th>\n",
       "      <th>topic</th>\n",
       "      <th>document</th>\n",
       "    </tr>\n",
       "  </thead>\n",
       "  <tbody>\n",
       "    <tr>\n",
       "      <th>0</th>\n",
       "      <td>file:/content/drive/My Drive/BBC News Summary/...</td>\n",
       "      <td>\"We are hoping to understand the creative indu...</td>\n",
       "      <td>tech</td>\n",
       "      <td>[(document, 0, 2096, \"We are hoping to underst...</td>\n",
       "    </tr>\n",
       "    <tr>\n",
       "      <th>1</th>\n",
       "      <td>file:/content/drive/My Drive/BBC News Summary/...</td>\n",
       "      <td>He said one laptop per child could be \" very i...</td>\n",
       "      <td>tech</td>\n",
       "      <td>[(document, 0, 1141, He said one laptop per ch...</td>\n",
       "    </tr>\n",
       "    <tr>\n",
       "      <th>2</th>\n",
       "      <td>file:/content/drive/My Drive/BBC News Summary/...</td>\n",
       "      <td>Laws on net cafe opening hours and who can use...</td>\n",
       "      <td>tech</td>\n",
       "      <td>[(document, 0, 883, Laws on net cafe opening h...</td>\n",
       "    </tr>\n",
       "    <tr>\n",
       "      <th>3</th>\n",
       "      <td>file:/content/drive/My Drive/BBC News Summary/...</td>\n",
       "      <td>The other common type of ink in elections is i...</td>\n",
       "      <td>tech</td>\n",
       "      <td>[(document, 0, 1690, The other common type of ...</td>\n",
       "    </tr>\n",
       "    <tr>\n",
       "      <th>4</th>\n",
       "      <td>file:/content/drive/My Drive/BBC News Summary/...</td>\n",
       "      <td>The Agricultural Information Project for Farme...</td>\n",
       "      <td>tech</td>\n",
       "      <td>[(document, 0, 1828, The Agricultural Informat...</td>\n",
       "    </tr>\n",
       "  </tbody>\n",
       "</table>\n",
       "</div>\n",
       "    <div class=\"colab-df-buttons\">\n",
       "\n",
       "  <div class=\"colab-df-container\">\n",
       "    <button class=\"colab-df-convert\" onclick=\"convertToInteractive('df-d9bd3f65-44d6-4a6c-9206-6162e917d9f8')\"\n",
       "            title=\"Convert this dataframe to an interactive table.\"\n",
       "            style=\"display:none;\">\n",
       "\n",
       "  <svg xmlns=\"http://www.w3.org/2000/svg\" height=\"24px\" viewBox=\"0 -960 960 960\">\n",
       "    <path d=\"M120-120v-720h720v720H120Zm60-500h600v-160H180v160Zm220 220h160v-160H400v160Zm0 220h160v-160H400v160ZM180-400h160v-160H180v160Zm440 0h160v-160H620v160ZM180-180h160v-160H180v160Zm440 0h160v-160H620v160Z\"/>\n",
       "  </svg>\n",
       "    </button>\n",
       "\n",
       "  <style>\n",
       "    .colab-df-container {\n",
       "      display:flex;\n",
       "      gap: 12px;\n",
       "    }\n",
       "\n",
       "    .colab-df-convert {\n",
       "      background-color: #E8F0FE;\n",
       "      border: none;\n",
       "      border-radius: 50%;\n",
       "      cursor: pointer;\n",
       "      display: none;\n",
       "      fill: #1967D2;\n",
       "      height: 32px;\n",
       "      padding: 0 0 0 0;\n",
       "      width: 32px;\n",
       "    }\n",
       "\n",
       "    .colab-df-convert:hover {\n",
       "      background-color: #E2EBFA;\n",
       "      box-shadow: 0px 1px 2px rgba(60, 64, 67, 0.3), 0px 1px 3px 1px rgba(60, 64, 67, 0.15);\n",
       "      fill: #174EA6;\n",
       "    }\n",
       "\n",
       "    .colab-df-buttons div {\n",
       "      margin-bottom: 4px;\n",
       "    }\n",
       "\n",
       "    [theme=dark] .colab-df-convert {\n",
       "      background-color: #3B4455;\n",
       "      fill: #D2E3FC;\n",
       "    }\n",
       "\n",
       "    [theme=dark] .colab-df-convert:hover {\n",
       "      background-color: #434B5C;\n",
       "      box-shadow: 0px 1px 3px 1px rgba(0, 0, 0, 0.15);\n",
       "      filter: drop-shadow(0px 1px 2px rgba(0, 0, 0, 0.3));\n",
       "      fill: #FFFFFF;\n",
       "    }\n",
       "  </style>\n",
       "\n",
       "    <script>\n",
       "      const buttonEl =\n",
       "        document.querySelector('#df-d9bd3f65-44d6-4a6c-9206-6162e917d9f8 button.colab-df-convert');\n",
       "      buttonEl.style.display =\n",
       "        google.colab.kernel.accessAllowed ? 'block' : 'none';\n",
       "\n",
       "      async function convertToInteractive(key) {\n",
       "        const element = document.querySelector('#df-d9bd3f65-44d6-4a6c-9206-6162e917d9f8');\n",
       "        const dataTable =\n",
       "          await google.colab.kernel.invokeFunction('convertToInteractive',\n",
       "                                                    [key], {});\n",
       "        if (!dataTable) return;\n",
       "\n",
       "        const docLinkHtml = 'Like what you see? Visit the ' +\n",
       "          '<a target=\"_blank\" href=https://colab.research.google.com/notebooks/data_table.ipynb>data table notebook</a>'\n",
       "          + ' to learn more about interactive tables.';\n",
       "        element.innerHTML = '';\n",
       "        dataTable['output_type'] = 'display_data';\n",
       "        await google.colab.output.renderOutput(dataTable, element);\n",
       "        const docLink = document.createElement('div');\n",
       "        docLink.innerHTML = docLinkHtml;\n",
       "        element.appendChild(docLink);\n",
       "      }\n",
       "    </script>\n",
       "  </div>\n",
       "\n",
       "\n",
       "<div id=\"df-9192692a-6428-47f5-a347-24fa34b429d5\">\n",
       "  <button class=\"colab-df-quickchart\" onclick=\"quickchart('df-9192692a-6428-47f5-a347-24fa34b429d5')\"\n",
       "            title=\"Suggest charts\"\n",
       "            style=\"display:none;\">\n",
       "\n",
       "<svg xmlns=\"http://www.w3.org/2000/svg\" height=\"24px\"viewBox=\"0 0 24 24\"\n",
       "     width=\"24px\">\n",
       "    <g>\n",
       "        <path d=\"M19 3H5c-1.1 0-2 .9-2 2v14c0 1.1.9 2 2 2h14c1.1 0 2-.9 2-2V5c0-1.1-.9-2-2-2zM9 17H7v-7h2v7zm4 0h-2V7h2v10zm4 0h-2v-4h2v4z\"/>\n",
       "    </g>\n",
       "</svg>\n",
       "  </button>\n",
       "\n",
       "<style>\n",
       "  .colab-df-quickchart {\n",
       "      --bg-color: #E8F0FE;\n",
       "      --fill-color: #1967D2;\n",
       "      --hover-bg-color: #E2EBFA;\n",
       "      --hover-fill-color: #174EA6;\n",
       "      --disabled-fill-color: #AAA;\n",
       "      --disabled-bg-color: #DDD;\n",
       "  }\n",
       "\n",
       "  [theme=dark] .colab-df-quickchart {\n",
       "      --bg-color: #3B4455;\n",
       "      --fill-color: #D2E3FC;\n",
       "      --hover-bg-color: #434B5C;\n",
       "      --hover-fill-color: #FFFFFF;\n",
       "      --disabled-bg-color: #3B4455;\n",
       "      --disabled-fill-color: #666;\n",
       "  }\n",
       "\n",
       "  .colab-df-quickchart {\n",
       "    background-color: var(--bg-color);\n",
       "    border: none;\n",
       "    border-radius: 50%;\n",
       "    cursor: pointer;\n",
       "    display: none;\n",
       "    fill: var(--fill-color);\n",
       "    height: 32px;\n",
       "    padding: 0;\n",
       "    width: 32px;\n",
       "  }\n",
       "\n",
       "  .colab-df-quickchart:hover {\n",
       "    background-color: var(--hover-bg-color);\n",
       "    box-shadow: 0 1px 2px rgba(60, 64, 67, 0.3), 0 1px 3px 1px rgba(60, 64, 67, 0.15);\n",
       "    fill: var(--button-hover-fill-color);\n",
       "  }\n",
       "\n",
       "  .colab-df-quickchart-complete:disabled,\n",
       "  .colab-df-quickchart-complete:disabled:hover {\n",
       "    background-color: var(--disabled-bg-color);\n",
       "    fill: var(--disabled-fill-color);\n",
       "    box-shadow: none;\n",
       "  }\n",
       "\n",
       "  .colab-df-spinner {\n",
       "    border: 2px solid var(--fill-color);\n",
       "    border-color: transparent;\n",
       "    border-bottom-color: var(--fill-color);\n",
       "    animation:\n",
       "      spin 1s steps(1) infinite;\n",
       "  }\n",
       "\n",
       "  @keyframes spin {\n",
       "    0% {\n",
       "      border-color: transparent;\n",
       "      border-bottom-color: var(--fill-color);\n",
       "      border-left-color: var(--fill-color);\n",
       "    }\n",
       "    20% {\n",
       "      border-color: transparent;\n",
       "      border-left-color: var(--fill-color);\n",
       "      border-top-color: var(--fill-color);\n",
       "    }\n",
       "    30% {\n",
       "      border-color: transparent;\n",
       "      border-left-color: var(--fill-color);\n",
       "      border-top-color: var(--fill-color);\n",
       "      border-right-color: var(--fill-color);\n",
       "    }\n",
       "    40% {\n",
       "      border-color: transparent;\n",
       "      border-right-color: var(--fill-color);\n",
       "      border-top-color: var(--fill-color);\n",
       "    }\n",
       "    60% {\n",
       "      border-color: transparent;\n",
       "      border-right-color: var(--fill-color);\n",
       "    }\n",
       "    80% {\n",
       "      border-color: transparent;\n",
       "      border-right-color: var(--fill-color);\n",
       "      border-bottom-color: var(--fill-color);\n",
       "    }\n",
       "    90% {\n",
       "      border-color: transparent;\n",
       "      border-bottom-color: var(--fill-color);\n",
       "    }\n",
       "  }\n",
       "</style>\n",
       "\n",
       "  <script>\n",
       "    async function quickchart(key) {\n",
       "      const quickchartButtonEl =\n",
       "        document.querySelector('#' + key + ' button');\n",
       "      quickchartButtonEl.disabled = true;  // To prevent multiple clicks.\n",
       "      quickchartButtonEl.classList.add('colab-df-spinner');\n",
       "      try {\n",
       "        const charts = await google.colab.kernel.invokeFunction(\n",
       "            'suggestCharts', [key], {});\n",
       "      } catch (error) {\n",
       "        console.error('Error during call to suggestCharts:', error);\n",
       "      }\n",
       "      quickchartButtonEl.classList.remove('colab-df-spinner');\n",
       "      quickchartButtonEl.classList.add('colab-df-quickchart-complete');\n",
       "    }\n",
       "    (() => {\n",
       "      let quickchartButtonEl =\n",
       "        document.querySelector('#df-9192692a-6428-47f5-a347-24fa34b429d5 button');\n",
       "      quickchartButtonEl.style.display =\n",
       "        google.colab.kernel.accessAllowed ? 'block' : 'none';\n",
       "    })();\n",
       "  </script>\n",
       "</div>\n",
       "\n",
       "    </div>\n",
       "  </div>\n"
      ],
      "text/plain": [
       "                                            filename  \\\n",
       "0  file:/content/drive/My Drive/BBC News Summary/...   \n",
       "1  file:/content/drive/My Drive/BBC News Summary/...   \n",
       "2  file:/content/drive/My Drive/BBC News Summary/...   \n",
       "3  file:/content/drive/My Drive/BBC News Summary/...   \n",
       "4  file:/content/drive/My Drive/BBC News Summary/...   \n",
       "\n",
       "                                                text topic  \\\n",
       "0  \"We are hoping to understand the creative indu...  tech   \n",
       "1  He said one laptop per child could be \" very i...  tech   \n",
       "2  Laws on net cafe opening hours and who can use...  tech   \n",
       "3  The other common type of ink in elections is i...  tech   \n",
       "4  The Agricultural Information Project for Farme...  tech   \n",
       "\n",
       "                                            document  \n",
       "0  [(document, 0, 2096, \"We are hoping to underst...  \n",
       "1  [(document, 0, 1141, He said one laptop per ch...  \n",
       "2  [(document, 0, 883, Laws on net cafe opening h...  \n",
       "3  [(document, 0, 1690, The other common type of ...  \n",
       "4  [(document, 0, 1828, The Agricultural Informat...  "
      ]
     },
     "execution_count": 19,
     "metadata": {},
     "output_type": "execute_result"
    }
   ],
   "source": [
    "# Define the assembler\n",
    "assembler = DocumentAssembler()\\\n",
    "  .setInputCol('text')\\\n",
    "  .setOutputCol('document')\n",
    "docs = assembler.transform(texts)\n",
    "docs.limit(5).toPandas()"
   ]
  },
  {
   "cell_type": "code",
   "execution_count": null,
   "metadata": {
    "colab": {
     "base_uri": "https://localhost:8080/",
     "height": 293
    },
    "executionInfo": {
     "elapsed": 2400,
     "status": "ok",
     "timestamp": 1720008612624,
     "user": {
      "displayName": "Bhaskar Reddy",
      "userId": "14970899258772530374"
     },
     "user_tz": -330
    },
    "id": "s52z029JuRlN",
    "outputId": "9e774468-562d-440f-8469-64de2eb0bbae"
   },
   "outputs": [
    {
     "data": {
      "application/vnd.google.colaboratory.intrinsic+json": {
       "summary": "{\n  \"name\": \"docs\",\n  \"rows\": 5,\n  \"fields\": [\n    {\n      \"column\": \"filename\",\n      \"properties\": {\n        \"dtype\": \"string\",\n        \"num_unique_values\": 5,\n        \"samples\": [\n          \"file:/content/drive/My Drive/BBC News Summary/Summaries1/tech/004.txt\",\n          \"file:/content/drive/My Drive/BBC News Summary/Summaries1/tech/006.txt\",\n          \"file:/content/drive/My Drive/BBC News Summary/Summaries1/tech/002.txt\"\n        ],\n        \"semantic_type\": \"\",\n        \"description\": \"\"\n      }\n    },\n    {\n      \"column\": \"text\",\n      \"properties\": {\n        \"dtype\": \"string\",\n        \"num_unique_values\": 5,\n        \"samples\": [\n          \"He said one laptop per child could be \\\" very important to the development of not just that child but now the whole family, village and neighbourhood\\\".He said the child could use the laptop like a text book.Mr Negroponte wants the laptops to become more common than mobile phones but conceded this was ambitious.That's for five or six years, so if we can distribute and sell laptops in quantities of one million or more to ministries of education that's cheaper and the marketing overheads go away.\\\"Nicholas Negroponte, chairman and founder of MIT's Media Labs, says he is developing a laptop PC that will go on sale for less than $100 (\\u00a353).The concept is based on experiments in the US state of Maine, where children were given laptop computers to take home and do their work on.However, Mr Negroponte has adapted the idea to his own work in Cambodia where he set up two schools together with his wife and gave the children laptops.\\\"Nokia make 200 million cell phones a year, so for us to claim we're going to make 200 million laptops is a big number, but we're not talking about doing it in three or five years, we're talking about months.\\\"\",\n          \"The Agricultural Information Project for Farmers of the Chancay-Huaral Valley also provides vital links between local organisations in charge of water irrigation, enabling them to coordinate their actions.One of the key elements of the project is the Agricultural Information System, with its flagship huaral.org website.The information network also allows farmers to look beyond their own region, and share experiences with other colleagues from the rest of Peru and even around the world.A network of community computer centres, linked by wireless technology, is providing a helping hand for poor farmers in Peru.\\\"Throughout the last three years, the people have provided a vital thrust to the project; they feel it belongs to them,\\\" said Mr Saldarriaga.The Board of Irrigation Users which runs the computer centres, aims to make the network self-sustainable within three years, through the cash generated by using the telecentres as internet cafes.The system also helps the inhabitants of the Chancay-Huaral Valley to organise their vital irrigation systems.\\\"The plan includes training on computers and internet skills for both operators and users of the system,\\\" said Carlos Saldarriaga, technical coordinator at Cepes.It is a precious element in Peru's coastal areas, because it is so scarce, and therefore it is necessary to have proper irrigation systems to make the most of it,\\\" Mr Saldarriaga told the BBC News website.Now, with the wireless network, Cuyo as well as the other communities is no longer isolated.The network has been three years in the making and was officially inaugurated in September.The non-government organisation, Cepes (Peruvian Centre for Social Studies) led the $200,000 project, also backed by local institutions, the Education and Agriculture ministries, and European development organisations.\",\n          \"Laws on net cafe opening hours and who can use them were introduced in 2002 following a fire at one cafe that killed 25 people.Chinese authorities closed 12,575 net cafes in the closing months of 2004, the country's government said.China has long been worried that net cafes are an unhealthy influence on young people.This is not the first time that the Chinese government has moved against net cafes that are not operating within its strict guidelines.The hours that children can use net cafes are also tightly regulated.According to the official news agency most of the net cafes were closed down because they were operating illegally.In August 2004 Chinese authorities shut down 700 websites and arrested 224 people in a crackdown on net porn.Net cafes are hugely popular in China because the relatively high cost of computer hardware means that few people have PCs in their homes.\"\n        ],\n        \"semantic_type\": \"\",\n        \"description\": \"\"\n      }\n    },\n    {\n      \"column\": \"topic\",\n      \"properties\": {\n        \"dtype\": \"category\",\n        \"num_unique_values\": 1,\n        \"samples\": [\n          \"tech\"\n        ],\n        \"semantic_type\": \"\",\n        \"description\": \"\"\n      }\n    },\n    {\n      \"column\": \"document\",\n      \"properties\": {\n        \"dtype\": \"object\",\n        \"semantic_type\": \"\",\n        \"description\": \"\"\n      }\n    },\n    {\n      \"column\": \"sentences\",\n      \"properties\": {\n        \"dtype\": \"object\",\n        \"semantic_type\": \"\",\n        \"description\": \"\"\n      }\n    }\n  ]\n}",
       "type": "dataframe"
      },
      "text/html": [
       "\n",
       "  <div id=\"df-61e22514-b004-41f1-9544-1d99b9160a5e\" class=\"colab-df-container\">\n",
       "    <div>\n",
       "<style scoped>\n",
       "    .dataframe tbody tr th:only-of-type {\n",
       "        vertical-align: middle;\n",
       "    }\n",
       "\n",
       "    .dataframe tbody tr th {\n",
       "        vertical-align: top;\n",
       "    }\n",
       "\n",
       "    .dataframe thead th {\n",
       "        text-align: right;\n",
       "    }\n",
       "</style>\n",
       "<table border=\"1\" class=\"dataframe\">\n",
       "  <thead>\n",
       "    <tr style=\"text-align: right;\">\n",
       "      <th></th>\n",
       "      <th>filename</th>\n",
       "      <th>text</th>\n",
       "      <th>topic</th>\n",
       "      <th>document</th>\n",
       "      <th>sentences</th>\n",
       "    </tr>\n",
       "  </thead>\n",
       "  <tbody>\n",
       "    <tr>\n",
       "      <th>0</th>\n",
       "      <td>file:/content/drive/My Drive/BBC News Summary/...</td>\n",
       "      <td>\"We are hoping to understand the creative indu...</td>\n",
       "      <td>tech</td>\n",
       "      <td>[(document, 0, 2096, \"We are hoping to underst...</td>\n",
       "      <td>[(document, 0, 2096, \"We are hoping to underst...</td>\n",
       "    </tr>\n",
       "    <tr>\n",
       "      <th>1</th>\n",
       "      <td>file:/content/drive/My Drive/BBC News Summary/...</td>\n",
       "      <td>He said one laptop per child could be \" very i...</td>\n",
       "      <td>tech</td>\n",
       "      <td>[(document, 0, 1141, He said one laptop per ch...</td>\n",
       "      <td>[(document, 0, 149, He said one laptop per chi...</td>\n",
       "    </tr>\n",
       "    <tr>\n",
       "      <th>2</th>\n",
       "      <td>file:/content/drive/My Drive/BBC News Summary/...</td>\n",
       "      <td>Laws on net cafe opening hours and who can use...</td>\n",
       "      <td>tech</td>\n",
       "      <td>[(document, 0, 883, Laws on net cafe opening h...</td>\n",
       "      <td>[(document, 0, 883, Laws on net cafe opening h...</td>\n",
       "    </tr>\n",
       "    <tr>\n",
       "      <th>3</th>\n",
       "      <td>file:/content/drive/My Drive/BBC News Summary/...</td>\n",
       "      <td>The other common type of ink in elections is i...</td>\n",
       "      <td>tech</td>\n",
       "      <td>[(document, 0, 1690, The other common type of ...</td>\n",
       "      <td>[(document, 0, 1690, The other common type of ...</td>\n",
       "    </tr>\n",
       "    <tr>\n",
       "      <th>4</th>\n",
       "      <td>file:/content/drive/My Drive/BBC News Summary/...</td>\n",
       "      <td>The Agricultural Information Project for Farme...</td>\n",
       "      <td>tech</td>\n",
       "      <td>[(document, 0, 1828, The Agricultural Informat...</td>\n",
       "      <td>[(document, 0, 614, The Agricultural Informati...</td>\n",
       "    </tr>\n",
       "  </tbody>\n",
       "</table>\n",
       "</div>\n",
       "    <div class=\"colab-df-buttons\">\n",
       "\n",
       "  <div class=\"colab-df-container\">\n",
       "    <button class=\"colab-df-convert\" onclick=\"convertToInteractive('df-61e22514-b004-41f1-9544-1d99b9160a5e')\"\n",
       "            title=\"Convert this dataframe to an interactive table.\"\n",
       "            style=\"display:none;\">\n",
       "\n",
       "  <svg xmlns=\"http://www.w3.org/2000/svg\" height=\"24px\" viewBox=\"0 -960 960 960\">\n",
       "    <path d=\"M120-120v-720h720v720H120Zm60-500h600v-160H180v160Zm220 220h160v-160H400v160Zm0 220h160v-160H400v160ZM180-400h160v-160H180v160Zm440 0h160v-160H620v160ZM180-180h160v-160H180v160Zm440 0h160v-160H620v160Z\"/>\n",
       "  </svg>\n",
       "    </button>\n",
       "\n",
       "  <style>\n",
       "    .colab-df-container {\n",
       "      display:flex;\n",
       "      gap: 12px;\n",
       "    }\n",
       "\n",
       "    .colab-df-convert {\n",
       "      background-color: #E8F0FE;\n",
       "      border: none;\n",
       "      border-radius: 50%;\n",
       "      cursor: pointer;\n",
       "      display: none;\n",
       "      fill: #1967D2;\n",
       "      height: 32px;\n",
       "      padding: 0 0 0 0;\n",
       "      width: 32px;\n",
       "    }\n",
       "\n",
       "    .colab-df-convert:hover {\n",
       "      background-color: #E2EBFA;\n",
       "      box-shadow: 0px 1px 2px rgba(60, 64, 67, 0.3), 0px 1px 3px 1px rgba(60, 64, 67, 0.15);\n",
       "      fill: #174EA6;\n",
       "    }\n",
       "\n",
       "    .colab-df-buttons div {\n",
       "      margin-bottom: 4px;\n",
       "    }\n",
       "\n",
       "    [theme=dark] .colab-df-convert {\n",
       "      background-color: #3B4455;\n",
       "      fill: #D2E3FC;\n",
       "    }\n",
       "\n",
       "    [theme=dark] .colab-df-convert:hover {\n",
       "      background-color: #434B5C;\n",
       "      box-shadow: 0px 1px 3px 1px rgba(0, 0, 0, 0.15);\n",
       "      filter: drop-shadow(0px 1px 2px rgba(0, 0, 0, 0.3));\n",
       "      fill: #FFFFFF;\n",
       "    }\n",
       "  </style>\n",
       "\n",
       "    <script>\n",
       "      const buttonEl =\n",
       "        document.querySelector('#df-61e22514-b004-41f1-9544-1d99b9160a5e button.colab-df-convert');\n",
       "      buttonEl.style.display =\n",
       "        google.colab.kernel.accessAllowed ? 'block' : 'none';\n",
       "\n",
       "      async function convertToInteractive(key) {\n",
       "        const element = document.querySelector('#df-61e22514-b004-41f1-9544-1d99b9160a5e');\n",
       "        const dataTable =\n",
       "          await google.colab.kernel.invokeFunction('convertToInteractive',\n",
       "                                                    [key], {});\n",
       "        if (!dataTable) return;\n",
       "\n",
       "        const docLinkHtml = 'Like what you see? Visit the ' +\n",
       "          '<a target=\"_blank\" href=https://colab.research.google.com/notebooks/data_table.ipynb>data table notebook</a>'\n",
       "          + ' to learn more about interactive tables.';\n",
       "        element.innerHTML = '';\n",
       "        dataTable['output_type'] = 'display_data';\n",
       "        await google.colab.output.renderOutput(dataTable, element);\n",
       "        const docLink = document.createElement('div');\n",
       "        docLink.innerHTML = docLinkHtml;\n",
       "        element.appendChild(docLink);\n",
       "      }\n",
       "    </script>\n",
       "  </div>\n",
       "\n",
       "\n",
       "<div id=\"df-805abd9d-5725-4714-b7af-76809668ddcf\">\n",
       "  <button class=\"colab-df-quickchart\" onclick=\"quickchart('df-805abd9d-5725-4714-b7af-76809668ddcf')\"\n",
       "            title=\"Suggest charts\"\n",
       "            style=\"display:none;\">\n",
       "\n",
       "<svg xmlns=\"http://www.w3.org/2000/svg\" height=\"24px\"viewBox=\"0 0 24 24\"\n",
       "     width=\"24px\">\n",
       "    <g>\n",
       "        <path d=\"M19 3H5c-1.1 0-2 .9-2 2v14c0 1.1.9 2 2 2h14c1.1 0 2-.9 2-2V5c0-1.1-.9-2-2-2zM9 17H7v-7h2v7zm4 0h-2V7h2v10zm4 0h-2v-4h2v4z\"/>\n",
       "    </g>\n",
       "</svg>\n",
       "  </button>\n",
       "\n",
       "<style>\n",
       "  .colab-df-quickchart {\n",
       "      --bg-color: #E8F0FE;\n",
       "      --fill-color: #1967D2;\n",
       "      --hover-bg-color: #E2EBFA;\n",
       "      --hover-fill-color: #174EA6;\n",
       "      --disabled-fill-color: #AAA;\n",
       "      --disabled-bg-color: #DDD;\n",
       "  }\n",
       "\n",
       "  [theme=dark] .colab-df-quickchart {\n",
       "      --bg-color: #3B4455;\n",
       "      --fill-color: #D2E3FC;\n",
       "      --hover-bg-color: #434B5C;\n",
       "      --hover-fill-color: #FFFFFF;\n",
       "      --disabled-bg-color: #3B4455;\n",
       "      --disabled-fill-color: #666;\n",
       "  }\n",
       "\n",
       "  .colab-df-quickchart {\n",
       "    background-color: var(--bg-color);\n",
       "    border: none;\n",
       "    border-radius: 50%;\n",
       "    cursor: pointer;\n",
       "    display: none;\n",
       "    fill: var(--fill-color);\n",
       "    height: 32px;\n",
       "    padding: 0;\n",
       "    width: 32px;\n",
       "  }\n",
       "\n",
       "  .colab-df-quickchart:hover {\n",
       "    background-color: var(--hover-bg-color);\n",
       "    box-shadow: 0 1px 2px rgba(60, 64, 67, 0.3), 0 1px 3px 1px rgba(60, 64, 67, 0.15);\n",
       "    fill: var(--button-hover-fill-color);\n",
       "  }\n",
       "\n",
       "  .colab-df-quickchart-complete:disabled,\n",
       "  .colab-df-quickchart-complete:disabled:hover {\n",
       "    background-color: var(--disabled-bg-color);\n",
       "    fill: var(--disabled-fill-color);\n",
       "    box-shadow: none;\n",
       "  }\n",
       "\n",
       "  .colab-df-spinner {\n",
       "    border: 2px solid var(--fill-color);\n",
       "    border-color: transparent;\n",
       "    border-bottom-color: var(--fill-color);\n",
       "    animation:\n",
       "      spin 1s steps(1) infinite;\n",
       "  }\n",
       "\n",
       "  @keyframes spin {\n",
       "    0% {\n",
       "      border-color: transparent;\n",
       "      border-bottom-color: var(--fill-color);\n",
       "      border-left-color: var(--fill-color);\n",
       "    }\n",
       "    20% {\n",
       "      border-color: transparent;\n",
       "      border-left-color: var(--fill-color);\n",
       "      border-top-color: var(--fill-color);\n",
       "    }\n",
       "    30% {\n",
       "      border-color: transparent;\n",
       "      border-left-color: var(--fill-color);\n",
       "      border-top-color: var(--fill-color);\n",
       "      border-right-color: var(--fill-color);\n",
       "    }\n",
       "    40% {\n",
       "      border-color: transparent;\n",
       "      border-right-color: var(--fill-color);\n",
       "      border-top-color: var(--fill-color);\n",
       "    }\n",
       "    60% {\n",
       "      border-color: transparent;\n",
       "      border-right-color: var(--fill-color);\n",
       "    }\n",
       "    80% {\n",
       "      border-color: transparent;\n",
       "      border-right-color: var(--fill-color);\n",
       "      border-bottom-color: var(--fill-color);\n",
       "    }\n",
       "    90% {\n",
       "      border-color: transparent;\n",
       "      border-bottom-color: var(--fill-color);\n",
       "    }\n",
       "  }\n",
       "</style>\n",
       "\n",
       "  <script>\n",
       "    async function quickchart(key) {\n",
       "      const quickchartButtonEl =\n",
       "        document.querySelector('#' + key + ' button');\n",
       "      quickchartButtonEl.disabled = true;  // To prevent multiple clicks.\n",
       "      quickchartButtonEl.classList.add('colab-df-spinner');\n",
       "      try {\n",
       "        const charts = await google.colab.kernel.invokeFunction(\n",
       "            'suggestCharts', [key], {});\n",
       "      } catch (error) {\n",
       "        console.error('Error during call to suggestCharts:', error);\n",
       "      }\n",
       "      quickchartButtonEl.classList.remove('colab-df-spinner');\n",
       "      quickchartButtonEl.classList.add('colab-df-quickchart-complete');\n",
       "    }\n",
       "    (() => {\n",
       "      let quickchartButtonEl =\n",
       "        document.querySelector('#df-805abd9d-5725-4714-b7af-76809668ddcf button');\n",
       "      quickchartButtonEl.style.display =\n",
       "        google.colab.kernel.accessAllowed ? 'block' : 'none';\n",
       "    })();\n",
       "  </script>\n",
       "</div>\n",
       "\n",
       "    </div>\n",
       "  </div>\n"
      ],
      "text/plain": [
       "                                            filename  \\\n",
       "0  file:/content/drive/My Drive/BBC News Summary/...   \n",
       "1  file:/content/drive/My Drive/BBC News Summary/...   \n",
       "2  file:/content/drive/My Drive/BBC News Summary/...   \n",
       "3  file:/content/drive/My Drive/BBC News Summary/...   \n",
       "4  file:/content/drive/My Drive/BBC News Summary/...   \n",
       "\n",
       "                                                text topic  \\\n",
       "0  \"We are hoping to understand the creative indu...  tech   \n",
       "1  He said one laptop per child could be \" very i...  tech   \n",
       "2  Laws on net cafe opening hours and who can use...  tech   \n",
       "3  The other common type of ink in elections is i...  tech   \n",
       "4  The Agricultural Information Project for Farme...  tech   \n",
       "\n",
       "                                            document  \\\n",
       "0  [(document, 0, 2096, \"We are hoping to underst...   \n",
       "1  [(document, 0, 1141, He said one laptop per ch...   \n",
       "2  [(document, 0, 883, Laws on net cafe opening h...   \n",
       "3  [(document, 0, 1690, The other common type of ...   \n",
       "4  [(document, 0, 1828, The Agricultural Informat...   \n",
       "\n",
       "                                           sentences  \n",
       "0  [(document, 0, 2096, \"We are hoping to underst...  \n",
       "1  [(document, 0, 149, He said one laptop per chi...  \n",
       "2  [(document, 0, 883, Laws on net cafe opening h...  \n",
       "3  [(document, 0, 1690, The other common type of ...  \n",
       "4  [(document, 0, 614, The Agricultural Informati...  "
      ]
     },
     "execution_count": 20,
     "metadata": {},
     "output_type": "execute_result"
    }
   ],
   "source": [
    "# Define the sentence detector\n",
    "sentence = SentenceDetector()\\\n",
    "  .setInputCols([\"document\"])\\\n",
    "  .setOutputCol(\"sentences\")\n",
    "docs = sentence.transform(docs)\n",
    "docs.limit(5).toPandas()"
   ]
  },
  {
   "cell_type": "code",
   "execution_count": null,
   "metadata": {
    "id": "WnjIruqwwfPe"
   },
   "outputs": [],
   "source": [
    "# Define the word tokenizer\n",
    "tokenizer = Tokenizer()\\\n",
    "  .setInputCols(['sentences'])\\\n",
    "  .setOutputCol('tokens')"
   ]
  },
  {
   "cell_type": "code",
   "execution_count": null,
   "metadata": {
    "colab": {
     "base_uri": "https://localhost:8080/"
    },
    "executionInfo": {
     "elapsed": 3438,
     "status": "ok",
     "timestamp": 1720008965520,
     "user": {
      "displayName": "Bhaskar Reddy",
      "userId": "14970899258772530374"
     },
     "user_tz": -330
    },
    "id": "GdLr6VWS0M8s",
    "outputId": "0f2c2097-236c-4400-8d15-c9d4dac3cf23"
   },
   "outputs": [
    {
     "name": "stdout",
     "output_type": "stream",
     "text": [
      "lemma_antbnc download started this may take some time.\n",
      "Approximate size to download 907.6 KB\n",
      "[OK!]\n"
     ]
    }
   ],
   "source": [
    "# Define the lemmetizer\n",
    "lemmatizer = LemmatizerModel.pretrained()\\\n",
    "  .setInputCols(['tokens'])\\\n",
    "  .setOutputCol('lemma') # show Output"
   ]
  },
  {
   "cell_type": "code",
   "execution_count": null,
   "metadata": {
    "id": "CfuPfH5e0Y5E"
   },
   "outputs": [],
   "source": [
    "# Define the normalizer\n",
    "normalizer = Normalizer()\\\n",
    "  .setInputCols(['lemma'])\\\n",
    "  .setOutputCol('normalized')\\\n",
    "  .setLowercase(True)"
   ]
  },
  {
   "cell_type": "code",
   "execution_count": null,
   "metadata": {
    "id": "yg0QUcrT0jwk"
   },
   "outputs": [],
   "source": [
    "# Define the finisher\n",
    "finisher = Finisher()\\\n",
    "  .setInputCols(['normalized'])\\\n",
    "  .setOutputCols(['normalized'])\\\n",
    "  .setOutputAsArray(True)"
   ]
  },
  {
   "cell_type": "code",
   "execution_count": null,
   "metadata": {
    "colab": {
     "base_uri": "https://localhost:8080/"
    },
    "executionInfo": {
     "elapsed": 461,
     "status": "ok",
     "timestamp": 1720008647382,
     "user": {
      "displayName": "Bhaskar Reddy",
      "userId": "14970899258772530374"
     },
     "user_tz": -330
    },
    "id": "OvHzeajl0rtE",
    "outputId": "42d409a1-bab0-4266-f05c-f9bb750b5426"
   },
   "outputs": [
    {
     "name": "stdout",
     "output_type": "stream",
     "text": [
      "{'me', 'this', 'what', 'from', 'off', 'own', 'before', 't', 'to', \"you'd\", 'he', 'where', \"how's\", \"mustn't\", \"you're\", 'its', 'few', 'more', 'or', 'doing', 'could', 'very', 'through', 'too', 'while', 'if', \"here's\", \"what's\", 'yourself', 'ours', 'herself', 'here', 'should', 'and', 'been', 'each', 'after', 'be', 'i', 'himself', 'with', 'below', 'nor', \"didn't\", 'in', 'only', \"i've\", 'these', \"why's\", 'does', \"hasn't\", 'her', 'same', 'all', \"we're\", \"that's\", \"when's\", 'a', 'as', 'between', 'myself', 'their', \"he'd\", 'hers', \"they've\", 'has', 'she', 'itself', 'there', 'for', 'until', 'yours', 'which', 'our', 'during', 'those', 'further', 'no', 'at', \"i'm\", 'once', \"they'd\", \"they're\", 'such', 'is', \"where's\", 'than', 'about', \"i'd\", \"i'll\", \"can't\", 'that', 'not', \"won't\", 'now', \"wouldn't\", 'them', 'up', \"we've\", 'we', 'his', 'most', 'cannot', 'ought', 'my', 'you', \"we'd\", 'don', 'they', \"haven't\", \"don't\", \"aren't\", \"shouldn't\", 'whom', 'when', \"wasn't\", \"she's\", 'yourselves', 'so', \"he's\", \"he'll\", 'against', 'into', \"who's\", 'are', 'do', 'had', 'on', 'themselves', 'why', \"hadn't\", \"they'll\", \"shan't\", \"we'll\", 'both', 's', 'of', 'but', 'down', 'how', 'having', 'an', 'theirs', 'some', \"you've\", 'would', 'over', 'your', 'am', 'can', \"couldn't\", 'above', 'any', 'other', \"she'd\", 'was', 'again', \"she'll\", \"isn't\", \"there's\", 'did', 'ourselves', 'out', 'under', 'will', \"you'll\", \"let's\", 'have', 'it', 'by', 'just', 'were', \"weren't\", 'then', \"it's\", 'who', 'him', 'being', \"doesn't\", 'because', 'the'}\n"
     ]
    }
   ],
   "source": [
    "# Define the stop words\n",
    "stopwords = set(StopWordsRemover.loadDefaultStopWords('english'))\n",
    "print(stopwords)\n",
    "\n",
    "# Define the stopword remover\n",
    "sw_remover = StopWordsRemover()\\\n",
    "  .setInputCol('normalized')\\\n",
    "  .setOutputCol('filtered')\\\n",
    "  .setStopWords(list(stopwords))"
   ]
  },
  {
   "cell_type": "code",
   "execution_count": null,
   "metadata": {
    "id": "Dz1aGvsi13jw"
   },
   "outputs": [],
   "source": [
    "# Define count vectorizer\n",
    "count_vectorizer = CountVectorizer(\n",
    "  inputCol = 'filtered',\n",
    "  outputCol = 'tf', minDF = 10\n",
    "  )"
   ]
  },
  {
   "cell_type": "code",
   "execution_count": null,
   "metadata": {
    "id": "bE5SY9IS2TX0"
   },
   "outputs": [],
   "source": [
    "# Define TF-IDF\n",
    "tfidf = IDF(\n",
    "  inputCol = 'tf',\n",
    "  outputCol = 'tfidf',\n",
    "  minDocFreq = 10\n",
    "  )"
   ]
  },
  {
   "cell_type": "code",
   "execution_count": null,
   "metadata": {
    "id": "NAxLStI2259G"
   },
   "outputs": [],
   "source": [
    "# Define the pipeline\n",
    "text_processing_pipeline = Pipeline(\n",
    "  stages = [\n",
    "    assembler,\n",
    "    sentence,\n",
    "    tokenizer,\n",
    "    lemmatizer,\n",
    "    normalizer,\n",
    "    finisher,\n",
    "    sw_remover,\n",
    "    count_vectorizer,\n",
    "    tfidf\n",
    "   ])"
   ]
  },
  {
   "cell_type": "code",
   "execution_count": null,
   "metadata": {
    "id": "eBoa0RFu3erM"
   },
   "outputs": [],
   "source": [
    "# Define a function to convert labels to indices and use it to fit the data\n",
    "label_indexer = StringIndexer(\n",
    "  inputCol = 'topic',\n",
    "  outputCol = 'label').fit(texts)"
   ]
  },
  {
   "cell_type": "code",
   "execution_count": null,
   "metadata": {
    "colab": {
     "base_uri": "https://localhost:8080/"
    },
    "executionInfo": {
     "elapsed": 478,
     "status": "ok",
     "timestamp": 1720008669469,
     "user": {
      "displayName": "Bhaskar Reddy",
      "userId": "14970899258772530374"
     },
     "user_tz": -330
    },
    "id": "mUtN3mB2XWXd",
    "outputId": "fc868161-2c5d-4e78-833a-01553f87ccd7"
   },
   "outputs": [
    {
     "data": {
      "text/plain": [
       "['sport', 'tech', 'politics']"
      ]
     },
     "execution_count": 30,
     "metadata": {},
     "output_type": "execute_result"
    }
   ],
   "source": [
    "# Take a look at the indexed labels\n",
    "label_indexer.labels"
   ]
  },
  {
   "cell_type": "code",
   "execution_count": null,
   "metadata": {
    "id": "-Fkuhmx_WZRI"
   },
   "outputs": [],
   "source": [
    "# Define a function to convert predicted indices to labels\n",
    "prediction_deindexer = IndexToString(\n",
    "  inputCol = 'prediction',\n",
    "  outputCol = 'pred_label',\n",
    "  labels = label_indexer.labels)"
   ]
  },
  {
   "cell_type": "code",
   "execution_count": null,
   "metadata": {
    "id": "OANuoL_LWu3d"
   },
   "outputs": [],
   "source": [
    "# Define a model\n",
    "naive_bayes = NaiveBayes(featuresCol = 'tfidf')"
   ]
  },
  {
   "cell_type": "code",
   "execution_count": null,
   "metadata": {
    "id": "LWOwK6rWW2zm"
   },
   "outputs": [],
   "source": [
    "# Define the overall pipeline\n",
    "pipeline = Pipeline(\n",
    "  stages = [\n",
    "    text_processing_pipeline,\n",
    "    label_indexer,\n",
    "    naive_bayes,\n",
    "    prediction_deindexer\n",
    "  ])"
   ]
  },
  {
   "cell_type": "code",
   "execution_count": null,
   "metadata": {
    "id": "VEYMUlG7XE3O"
   },
   "outputs": [],
   "source": [
    "# Train the model\n",
    "model = pipeline.fit(train)"
   ]
  },
  {
   "cell_type": "code",
   "execution_count": null,
   "metadata": {
    "id": "__CtfENSZBzj"
   },
   "outputs": [],
   "source": [
    "# Make predictions on the train and test sets\n",
    "train_predicted = model.transform(train)\n",
    "test_predicted = model.transform(test)"
   ]
  },
  {
   "cell_type": "code",
   "execution_count": null,
   "metadata": {
    "id": "E2E0KDXDZL56"
   },
   "outputs": [],
   "source": [
    "# Innitiate the F1 score\n",
    "evaluator = MulticlassClassificationEvaluator(metricName = 'f1')"
   ]
  },
  {
   "cell_type": "code",
   "execution_count": null,
   "metadata": {
    "colab": {
     "base_uri": "https://localhost:8080/"
    },
    "executionInfo": {
     "elapsed": 5614,
     "status": "ok",
     "timestamp": 1720008725478,
     "user": {
      "displayName": "Bhaskar Reddy",
      "userId": "14970899258772530374"
     },
     "user_tz": -330
    },
    "id": "mloq06DuZRyi",
    "outputId": "48fa1f83-b552-48e6-b9a2-86164383bbf6"
   },
   "outputs": [
    {
     "name": "stdout",
     "output_type": "stream",
     "text": [
      "f1 on train set 0.9880074299785647\n"
     ]
    }
   ],
   "source": [
    "# Report the F1 score on the train set\n",
    "print('f1 on train set', evaluator.evaluate(train_predicted))"
   ]
  },
  {
   "cell_type": "code",
   "execution_count": null,
   "metadata": {
    "colab": {
     "base_uri": "https://localhost:8080/"
    },
    "executionInfo": {
     "elapsed": 4343,
     "status": "ok",
     "timestamp": 1720008731762,
     "user": {
      "displayName": "Bhaskar Reddy",
      "userId": "14970899258772530374"
     },
     "user_tz": -330
    },
    "id": "X7_r4DtmZlR6",
    "outputId": "ceb70586-5715-400e-a24d-4a2bfb975e18"
   },
   "outputs": [
    {
     "name": "stdout",
     "output_type": "stream",
     "text": [
      "f1 on test set 0.9788808701693263\n"
     ]
    }
   ],
   "source": [
    "# Report the F1 score on the test set\n",
    "print('f1 on test set', evaluator.evaluate(test_predicted))"
   ]
  },
  {
   "cell_type": "code",
   "execution_count": null,
   "metadata": {
    "id": "DJWZNIZ4a55o"
   },
   "outputs": [],
   "source": [
    "# Define a function to try out different ML models\n",
    "def fit_model(model):\n",
    "\n",
    "  # Define the type of model\n",
    "  model_type = model(featuresCol = 'tfidf')\n",
    "\n",
    "  # Construct the overall pipeline\n",
    "  pipeline = Pipeline(\n",
    "  stages = [\n",
    "    text_processing_pipeline,\n",
    "    label_indexer,\n",
    "    model_type,\n",
    "    prediction_deindexer\n",
    "  ])\n",
    "\n",
    "  # Train the model\n",
    "  model = pipeline.fit(train)\n",
    "\n",
    "  # Make predictions on the train and test sets\n",
    "  train_predicted = model.transform(train)\n",
    "  test_predicted = model.transform(test)\n",
    "\n",
    "  # Innitiate the F1 score\n",
    "  evaluator = MulticlassClassificationEvaluator(metricName = 'f1')\n",
    "\n",
    "  # Report the F1 score on the train set\n",
    "  print(f'{str(model)}: f1 on train set', evaluator.evaluate(train_predicted))\n",
    "\n",
    "  # Report the F1 score on the test set\n",
    "  print(f'{str(model)}: f1 on test set', evaluator.evaluate(test_predicted))"
   ]
  },
  {
   "cell_type": "code",
   "execution_count": null,
   "metadata": {
    "colab": {
     "base_uri": "https://localhost:8080/"
    },
    "executionInfo": {
     "elapsed": 33705,
     "status": "ok",
     "timestamp": 1720008779723,
     "user": {
      "displayName": "Bhaskar Reddy",
      "userId": "14970899258772530374"
     },
     "user_tz": -330
    },
    "id": "-O7hPdjicVX2",
    "outputId": "b83e2872-3204-4676-c81c-d10a39b54a16"
   },
   "outputs": [
    {
     "name": "stdout",
     "output_type": "stream",
     "text": [
      "PipelineModel_80db8f4bf865: f1 on train set 1.0\n",
      "PipelineModel_80db8f4bf865: f1 on test set 0.9129377161635226\n"
     ]
    }
   ],
   "source": [
    "# Fit a logistic regression\n",
    "fit_model(LogisticRegression)"
   ]
  },
  {
   "cell_type": "code",
   "execution_count": null,
   "metadata": {
    "colab": {
     "base_uri": "https://localhost:8080/"
    },
    "executionInfo": {
     "elapsed": 38021,
     "status": "ok",
     "timestamp": 1720008821527,
     "user": {
      "displayName": "Bhaskar Reddy",
      "userId": "14970899258772530374"
     },
     "user_tz": -330
    },
    "id": "jFy_2lOedBJs",
    "outputId": "91e41b76-ba50-4df6-8ec4-58ce8d7a94f0"
   },
   "outputs": [
    {
     "name": "stdout",
     "output_type": "stream",
     "text": [
      "PipelineModel_b43fc065d8a8: f1 on train set 0.8770458872116675\n",
      "PipelineModel_b43fc065d8a8: f1 on test set 0.8498437954083116\n"
     ]
    }
   ],
   "source": [
    "# Fit a random forest classifier\n",
    "fit_model(RandomForestClassifier) # show accuracy score"
   ]
  }
 ],
 "metadata": {
  "accelerator": "GPU",
  "colab": {
   "machine_shape": "hm",
   "provenance": []
  },
  "gpuClass": "standard",
  "kernelspec": {
   "display_name": "Python 3",
   "name": "python3"
  },
  "language_info": {
   "codemirror_mode": {
    "name": "ipython",
    "version": 3
   },
   "file_extension": ".py",
   "mimetype": "text/x-python",
   "name": "python",
   "nbconvert_exporter": "python",
   "pygments_lexer": "ipython3",
   "version": "3.11.2"
  }
 },
 "nbformat": 4,
 "nbformat_minor": 0
}
